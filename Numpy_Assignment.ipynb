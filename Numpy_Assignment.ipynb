{
  "nbformat": 4,
  "nbformat_minor": 0,
  "metadata": {
    "colab": {
      "provenance": []
    },
    "kernelspec": {
      "name": "python3",
      "display_name": "Python 3"
    },
    "language_info": {
      "name": "python"
    }
  },
  "cells": [
    {
      "cell_type": "code",
      "source": [
        "import numpy as np\n",
        "import pandas as pd"
      ],
      "metadata": {
        "id": "ARUM4tdrRp19"
      },
      "execution_count": null,
      "outputs": []
    },
    {
      "cell_type": "code",
      "execution_count": null,
      "metadata": {
        "colab": {
          "base_uri": "https://localhost:8080/"
        },
        "id": "eIDyApiERYKz",
        "outputId": "3846f0f3-2815-4157-fff9-d1474c7c045a"
      },
      "outputs": [
        {
          "output_type": "stream",
          "name": "stdout",
          "text": [
            "<class 'numpy.ndarray'>\n"
          ]
        }
      ],
      "source": [
        "# 1. Create a NumPy array 'arr' of integers from 0 to 5 and print its data type.\n",
        "l=[0,1,2,3,4,5]\n",
        "arr = np.array(l)\n",
        "print(type(arr))"
      ]
    },
    {
      "cell_type": "code",
      "source": [
        "# 2.  Given a NumPy array 'arr', check if its data type is float64.\n",
        "arr = np.array([1.5,2.6,3.7])\n",
        "print(arr.dtype == np.float64)"
      ],
      "metadata": {
        "colab": {
          "base_uri": "https://localhost:8080/"
        },
        "id": "YlZpapoFRiK_",
        "outputId": "78eb6776-407d-48fd-9cf0-a0eae8510c33"
      },
      "execution_count": null,
      "outputs": [
        {
          "output_type": "stream",
          "name": "stdout",
          "text": [
            "True\n"
          ]
        }
      ]
    },
    {
      "cell_type": "code",
      "source": [
        "# 3.Create a NumPy array 'arr' with a data type of complex128 containing three complex numbers.\n",
        "l=[1+2j,3+5j,8+9j]\n",
        "arr = np.array(l)\n",
        "print(arr.dtype)"
      ],
      "metadata": {
        "colab": {
          "base_uri": "https://localhost:8080/"
        },
        "id": "CwYBsIjgSFPE",
        "outputId": "81cad8b7-8b9f-4379-ef99-1d1b676a0e98"
      },
      "execution_count": null,
      "outputs": [
        {
          "output_type": "stream",
          "name": "stdout",
          "text": [
            "complex128\n"
          ]
        }
      ]
    },
    {
      "cell_type": "code",
      "source": [
        "# 4. Convert an existing NumPy array 'arr' of integers to float32 data type.\n",
        "arr = np.array([1,2,3,4,5,6],dtype=np.float32)\n",
        "print(arr.dtype)\n"
      ],
      "metadata": {
        "colab": {
          "base_uri": "https://localhost:8080/"
        },
        "id": "P6G12Zk0S-EE",
        "outputId": "5ceb1f9a-abfe-414c-cf8f-afa2b2f3df8b"
      },
      "execution_count": null,
      "outputs": [
        {
          "output_type": "stream",
          "name": "stdout",
          "text": [
            "float32\n"
          ]
        }
      ]
    },
    {
      "cell_type": "code",
      "source": [
        "# 5. Given a NumPy array 'arr' with float64 data type, convert it to float32 to reduce decimal precision.\n",
        "arr = np.array([1.2345234564636,2.452345673456769,4.2456783456789])\n",
        "print(arr.dtype)\n",
        "arr = arr.astype(np.float32)\n",
        "print(arr)\n",
        "print(arr.dtype)"
      ],
      "metadata": {
        "colab": {
          "base_uri": "https://localhost:8080/"
        },
        "id": "IBtnkM4FTiC0",
        "outputId": "5f5d5b47-40e6-40ef-900a-0c7ee4c22cf4"
      },
      "execution_count": null,
      "outputs": [
        {
          "output_type": "stream",
          "name": "stdout",
          "text": [
            "float64\n",
            "[1.2345234 2.4523456 4.2456784]\n",
            "float32\n"
          ]
        }
      ]
    },
    {
      "cell_type": "code",
      "source": [
        "#6. Write a function array_attributes that takes a NumPy array as input and returns its shape, size, and data type\n",
        "def array_attributes(arr):\n",
        "  return arr.shape,arr.size,arr.dtype\n",
        "arr= np.asarray([5,6,7,8,9,10])\n",
        "shape,size,data_type= array_attributes(arr)\n",
        "print(\"Shape :\",shape)\n",
        "print(\"Size :\",size)\n",
        "print(\"Data type :\",data_type)"
      ],
      "metadata": {
        "colab": {
          "base_uri": "https://localhost:8080/"
        },
        "id": "po6tm3IyU9l2",
        "outputId": "dc46e16a-4280-457b-90ce-e6d5e89a48cd"
      },
      "execution_count": null,
      "outputs": [
        {
          "output_type": "stream",
          "name": "stdout",
          "text": [
            "Shape : (6,)\n",
            "Size : 6\n",
            "Data type : int64\n"
          ]
        }
      ]
    },
    {
      "cell_type": "code",
      "source": [
        "# 7.Create a function array_dimension that takes a NumPy array as input and returns its dimensionality.\n",
        "def array_dimension(arr):\n",
        "  return arr.ndim\n",
        "arr= np.asarray([10,11,12,13,14,15,16])\n",
        "print(\"The dimension :\",array_dimension(arr))\n"
      ],
      "metadata": {
        "colab": {
          "base_uri": "https://localhost:8080/"
        },
        "id": "b2fCXlSwWKwC",
        "outputId": "ecfeebec-b6e7-43a4-cff7-70c140f4f6b7"
      },
      "execution_count": null,
      "outputs": [
        {
          "output_type": "stream",
          "name": "stdout",
          "text": [
            "The dimension : 1\n"
          ]
        }
      ]
    },
    {
      "cell_type": "code",
      "source": [
        "#8.Design a function item_size_info that takes a NumPy array as input and returns the item size and total size in bytes\n",
        "def item_size_info(arr):\n",
        "  return arr.itemsize,arr.nbytes\n",
        "arr=np.asarray([21,22,2,3,13])\n",
        "\n",
        "item_size,total_bytes = item_size_info(arr)\n",
        "\n",
        "print(\"Item size :\",item_size)\n",
        "print(\"Total_bytes :\",total_bytes)\n",
        "\n",
        "\n"
      ],
      "metadata": {
        "colab": {
          "base_uri": "https://localhost:8080/"
        },
        "id": "KgmVMMQ-W3Ka",
        "outputId": "bd344109-b663-4213-d70f-921db1cfe720"
      },
      "execution_count": null,
      "outputs": [
        {
          "output_type": "stream",
          "name": "stdout",
          "text": [
            "Item size : 8\n",
            "Total_bytes : 40\n"
          ]
        }
      ]
    },
    {
      "cell_type": "code",
      "source": [
        "# 9.Create a function array_strides that takes a NumPy array as input and returns the strides of the array.\n",
        "def array_strides(arr):\n",
        "  return arr.strides\n",
        "arr = np.asarray([[1,2,3,4,5],[6,7,8,9,10]])\n",
        "strides = array_strides(arr)\n",
        "print(\"The array strides :\",strides)"
      ],
      "metadata": {
        "colab": {
          "base_uri": "https://localhost:8080/"
        },
        "id": "GxHKWszCYpF5",
        "outputId": "702e3360-3043-4a76-f7ee-bcbc3d209f77"
      },
      "execution_count": null,
      "outputs": [
        {
          "output_type": "stream",
          "name": "stdout",
          "text": [
            "The array strides : (40, 8)\n"
          ]
        }
      ]
    },
    {
      "cell_type": "code",
      "source": [
        "#10.Design a function shape_stride_relationship that takes a NumPy array as input and returns\n",
        "# the shape and strides of the array.\n",
        "def shape_stride_relationship(arr):\n",
        "  return arr.shape,arr.size\n",
        "arr = np.asarray([[1,2,3,4,5],[6,7,8,9,10]])\n",
        "shape,size = shape_stride_relationship(arr)\n",
        "print(\"The Shape :\",shape)\n",
        "print(\"The Size :\",size)"
      ],
      "metadata": {
        "colab": {
          "base_uri": "https://localhost:8080/"
        },
        "id": "1RwodykcZvi5",
        "outputId": "4f06b05f-d321-48e5-cbd6-9ce3660445ef"
      },
      "execution_count": null,
      "outputs": [
        {
          "output_type": "stream",
          "name": "stdout",
          "text": [
            "The Shape : (2, 5)\n",
            "The Size : 10\n"
          ]
        }
      ]
    },
    {
      "cell_type": "code",
      "source": [
        "# 11.Create a function `create_zeros_array` that takes an integer `n` as input and returns a NumPy array of\n",
        "# zeros with `n` elements.\n",
        "\n",
        "def create_zeros_array(n):\n",
        "  arr=np.zeros(n)\n",
        "  return arr\n",
        "n=int(input(\"Enter n :\"))\n",
        "arr = create_zeros_array(n)\n",
        "print(arr)"
      ],
      "metadata": {
        "colab": {
          "base_uri": "https://localhost:8080/"
        },
        "id": "mJQ9yYqeadob",
        "outputId": "07649770-4789-4134-ae9c-6018b70e42d1"
      },
      "execution_count": null,
      "outputs": [
        {
          "output_type": "stream",
          "name": "stdout",
          "text": [
            "Enter n :7\n",
            "[0. 0. 0. 0. 0. 0. 0.]\n"
          ]
        }
      ]
    },
    {
      "cell_type": "code",
      "source": [
        " # 12. Write a function `create_ones_matrix` that takes integers `rows` and `cols` as inputs and generates a 2D\n",
        "# NumPy array filled with ones of size `rows x cols`.\n",
        "\n",
        "def create_ones_matrix(rows,cols):\n",
        "  return np.ones((rows,cols))\n",
        "\n",
        "rows=int(input(\"Enter the number of rows :\"))\n",
        "cols=int(input(\"Enter the number of cols :\"))\n",
        "\n",
        "print(create_ones_matrix(rows,cols))"
      ],
      "metadata": {
        "colab": {
          "base_uri": "https://localhost:8080/"
        },
        "id": "q86RzkCTcERw",
        "outputId": "5b8c5c60-fd35-4180-af5e-4b7ab0c501a9"
      },
      "execution_count": null,
      "outputs": [
        {
          "output_type": "stream",
          "name": "stdout",
          "text": [
            "Enter the number of rows :3\n",
            "Enter the number of cols :3\n",
            "[[1. 1. 1.]\n",
            " [1. 1. 1.]\n",
            " [1. 1. 1.]]\n"
          ]
        }
      ]
    },
    {
      "cell_type": "code",
      "source": [
        "# 13.  Write a function `generate_range_array` that takes three integers start, stop, and step as arguments and\n",
        "# creates a NumPy array with a range starting from `start`, ending at stop (exclusive), and with the specified `step`.\n",
        "\n",
        "def generate_range_array(start,end,step):\n",
        "  return np.arange(start,end,step)\n",
        "start=int(input(\"Enter start number :\"))\n",
        "end = int(input(\"Enter end number :\"))\n",
        "step =int(input(\"Enter step number :\"))\n",
        "\n",
        "arr= generate_range_array(start,end,step)\n",
        "print(arr)"
      ],
      "metadata": {
        "colab": {
          "base_uri": "https://localhost:8080/"
        },
        "id": "3mjM6eqBvGlG",
        "outputId": "6c72359c-1deb-4774-8218-c4f3ad548360"
      },
      "execution_count": null,
      "outputs": [
        {
          "output_type": "stream",
          "name": "stdout",
          "text": [
            "Enter start number :3\n",
            "Enter end number :30\n",
            "Enter step number :4\n",
            "[ 3  7 11 15 19 23 27]\n"
          ]
        }
      ]
    },
    {
      "cell_type": "code",
      "source": [
        "# 14.Design a function `generate_linear_space` that takes two floats `start`, `stop`, and an integer `num` as\n",
        "# arguments and generates a NumPy array with num equally spaced values between `start` and `stop` (inclusive).\n",
        "def generate_linear_space(start,stop,num):\n",
        "  return np.linspace(start,stop,num)\n",
        "start =float(input(\"Enter start :\"))\n",
        "stop =float(input(\"Enter stop :\"))\n",
        "num =int(input(\"Enter num :\"))\n",
        "\n",
        "print(generate_linear_space(start,stop,num))"
      ],
      "metadata": {
        "colab": {
          "base_uri": "https://localhost:8080/"
        },
        "id": "6SvtHmZ1wKY-",
        "outputId": "19d09719-4ab6-430f-ba15-5b24e0f906ce"
      },
      "execution_count": null,
      "outputs": [
        {
          "output_type": "stream",
          "name": "stdout",
          "text": [
            "Enter start :1\n",
            "Enter stop :10\n",
            "Enter num :4\n",
            "[ 1.  4.  7. 10.]\n"
          ]
        }
      ]
    },
    {
      "cell_type": "code",
      "source": [
        "# 15. Create a function `create_identity_matrix` that takes an integer `n` as input and generates a square\n",
        "# identity matrix of size `n x n` using `numpy.eye`.\n",
        "\n",
        "def create_identity_matrix(n):\n",
        "  return np.eye(n)\n",
        "n=int(input(\"Enter n :\"))\n",
        "print(create_identity_matrix(n))"
      ],
      "metadata": {
        "colab": {
          "base_uri": "https://localhost:8080/"
        },
        "id": "zPwdh-rHyIVt",
        "outputId": "ad2d64ce-9302-4ac3-e6a4-fde0e2d109c4"
      },
      "execution_count": null,
      "outputs": [
        {
          "output_type": "stream",
          "name": "stdout",
          "text": [
            "Enter n :5\n",
            "[[1. 0. 0. 0. 0.]\n",
            " [0. 1. 0. 0. 0.]\n",
            " [0. 0. 1. 0. 0.]\n",
            " [0. 0. 0. 1. 0.]\n",
            " [0. 0. 0. 0. 1.]]\n"
          ]
        }
      ]
    },
    {
      "cell_type": "code",
      "source": [
        "# 16. Write a function that takes a Python list and converts it into a NumPy array.\n",
        "def list_to_numpy(l):\n",
        "  return np.array(l)\n",
        "l =[1,10,21,23,56,7,12,65]\n",
        "numpy_array= list_to_numpy(l)\n",
        "print(\"Numpy array :\",numpy_array)\n",
        "print(type(numpy_array))"
      ],
      "metadata": {
        "colab": {
          "base_uri": "https://localhost:8080/"
        },
        "id": "1hsXwTX3ykuN",
        "outputId": "1e7bb534-d536-416c-f009-f8df84ddf6b3"
      },
      "execution_count": null,
      "outputs": [
        {
          "output_type": "stream",
          "name": "stdout",
          "text": [
            "Numpy array : [ 1 10 21 23 56  7 12 65]\n",
            "<class 'numpy.ndarray'>\n"
          ]
        }
      ]
    },
    {
      "cell_type": "code",
      "source": [
        "# 17.Create a NumPy array and demonstrate the use of `numpy.view` to create a new array object with the same data.\n",
        "arr=np.array([1,2,3,90,45,6,3])\n",
        "view = arr.view()\n",
        "\n",
        "print(arr[0])\n",
        "\n",
        "view[0]=1000\n",
        "print(view[0])\n",
        "print(arr[0])"
      ],
      "metadata": {
        "colab": {
          "base_uri": "https://localhost:8080/"
        },
        "id": "l6Ubn_hzzBl9",
        "outputId": "a08e0d8e-eae5-4abb-9a74-2ebc489cc9ed"
      },
      "execution_count": null,
      "outputs": [
        {
          "output_type": "stream",
          "name": "stdout",
          "text": [
            "1\n",
            "1000\n",
            "1000\n"
          ]
        }
      ]
    },
    {
      "cell_type": "code",
      "source": [
        "# 18. Write a function that takes two NumPy arrays and concatenates them along a specified axis\n",
        "def array_concatenates(ones,zeros):\n",
        "  return np.concatenate((ones,zeros),axis=0) , np.concatenate((ones,zeros),axis=1)\n",
        "ones = np.ones((3,3))\n",
        "zeros = np.zeros((3,3))\n",
        "print(\"Ones :\",ones)\n",
        "print(\"Zeros :\",zeros)\n",
        "\n",
        "axis_0 , axis_1 = array_concatenates(ones,zeros)\n",
        "\n",
        "print(\"axis = 0 :\")\n",
        "print(axis_0)\n",
        "print(\"axis = 1 :\")\n",
        "print(axis_1)"
      ],
      "metadata": {
        "colab": {
          "base_uri": "https://localhost:8080/"
        },
        "id": "vhC2GYLYzoh9",
        "outputId": "5d278219-099b-4c6a-b3fa-2164d11db942"
      },
      "execution_count": null,
      "outputs": [
        {
          "output_type": "stream",
          "name": "stdout",
          "text": [
            "Ones : [[1. 1. 1.]\n",
            " [1. 1. 1.]\n",
            " [1. 1. 1.]]\n",
            "Zeros : [[0. 0. 0.]\n",
            " [0. 0. 0.]\n",
            " [0. 0. 0.]]\n",
            "axis = 0 :\n",
            "[[1. 1. 1.]\n",
            " [1. 1. 1.]\n",
            " [1. 1. 1.]\n",
            " [0. 0. 0.]\n",
            " [0. 0. 0.]\n",
            " [0. 0. 0.]]\n",
            "axis = 1 :\n",
            "[[1. 1. 1. 0. 0. 0.]\n",
            " [1. 1. 1. 0. 0. 0.]\n",
            " [1. 1. 1. 0. 0. 0.]]\n"
          ]
        }
      ]
    },
    {
      "cell_type": "code",
      "source": [
        "# 19. Create two NumPy arrays with different shapes and concatenate them horizontally using `numpy.concatenate`.\n",
        "def array_concatenates(ones,zeros):\n",
        "  return np.concatenate((ones,zeros),axis=0)\n",
        "ones = np.ones((3,3))\n",
        "zeros = np.zeros((3,3))\n",
        "print(\"Ones :\")\n",
        "print(ones)\n",
        "print(\"Zeros :\")\n",
        "print(zeros)\n",
        "\n",
        "axis_0 = array_concatenates(ones,zeros)\n",
        "\n",
        "print(\"Concates Horizontally :\")\n",
        "print(axis_0)\n"
      ],
      "metadata": {
        "colab": {
          "base_uri": "https://localhost:8080/"
        },
        "id": "MD4nhZqq1EdU",
        "outputId": "a37894a7-75d1-4f24-f963-88c580cb849e"
      },
      "execution_count": null,
      "outputs": [
        {
          "output_type": "stream",
          "name": "stdout",
          "text": [
            "Ones :\n",
            "[[1. 1. 1.]\n",
            " [1. 1. 1.]\n",
            " [1. 1. 1.]]\n",
            "Zeros :\n",
            "[[0. 0. 0.]\n",
            " [0. 0. 0.]\n",
            " [0. 0. 0.]]\n",
            "Concates Horizontally :\n",
            "[[1. 1. 1.]\n",
            " [1. 1. 1.]\n",
            " [1. 1. 1.]\n",
            " [0. 0. 0.]\n",
            " [0. 0. 0.]\n",
            " [0. 0. 0.]]\n"
          ]
        }
      ]
    },
    {
      "cell_type": "code",
      "source": [
        "# 20.Write a function that vertically stacks multiple NumPy arrays given as a list.\n",
        "def numpy_stacks(l1,l2,l3):\n",
        "  return np.vstack([l1,l2,l3])\n",
        "\n",
        "l1=[1,2,3]\n",
        "l2=[4,5,6]\n",
        "l3=[7,8,9]\n",
        "print(\"The vertical array stack :\")\n",
        "print(numpy_stacks(l1,l2,l3))"
      ],
      "metadata": {
        "colab": {
          "base_uri": "https://localhost:8080/"
        },
        "id": "Tf8n2Fe13GHr",
        "outputId": "54d27ca6-d13d-4148-eef7-434d6ad9473f"
      },
      "execution_count": null,
      "outputs": [
        {
          "output_type": "stream",
          "name": "stdout",
          "text": [
            "The vertical array stack :\n",
            "[[1 2 3]\n",
            " [4 5 6]\n",
            " [7 8 9]]\n"
          ]
        }
      ]
    },
    {
      "cell_type": "code",
      "source": [
        "# 21. Write a Python function using NumPy to create an array of integers within a specified range (inclusive)\n",
        "# with a given step size.\n",
        "\n",
        "def generate_array(start,stop,step):\n",
        "  if (stop-start)% step==0:\n",
        "    return np.arange(start,stop+step,step)\n",
        "  else:\n",
        "    return np.arange(start,stop,step)\n",
        "\n",
        "\n",
        "start =int(input(\"Enter start :\"))\n",
        "stop =int(input(\"Enter stop :\"))\n",
        "step =int(input(\"Enter step :\"))\n",
        "\n",
        "print(generate_array(start,stop,step))"
      ],
      "metadata": {
        "colab": {
          "base_uri": "https://localhost:8080/"
        },
        "id": "2ans0VFN384c",
        "outputId": "83b8073c-67df-4f0d-bffb-261e0571e68d"
      },
      "execution_count": null,
      "outputs": [
        {
          "output_type": "stream",
          "name": "stdout",
          "text": [
            "Enter start :2\n",
            "Enter stop :20\n",
            "Enter step :2\n",
            "[ 2  4  6  8 10 12 14 16 18 20]\n"
          ]
        }
      ]
    },
    {
      "cell_type": "code",
      "source": [
        "# 22.Write a Python function using NumPy to generate an array of 10 equally spaced values between 0 and 1 (inclusive).\n",
        "def function():\n",
        "  print(np.linspace(0,1,10))\n",
        "function()"
      ],
      "metadata": {
        "colab": {
          "base_uri": "https://localhost:8080/"
        },
        "id": "esxIt1-Y425r",
        "outputId": "88618635-ffc2-44de-f44c-48e2e0f8ef98"
      },
      "execution_count": null,
      "outputs": [
        {
          "output_type": "stream",
          "name": "stdout",
          "text": [
            "[0.         0.11111111 0.22222222 0.33333333 0.44444444 0.55555556\n",
            " 0.66666667 0.77777778 0.88888889 1.        ]\n"
          ]
        }
      ]
    },
    {
      "cell_type": "code",
      "source": [
        "#23.Write a Python function using NumPy to create an array of 5 logarithmically spaced values between 1 and 1000\n",
        "# (inclusive).\n",
        "\n",
        "def function():\n",
        "  return np.logspace(0,3,5)\n",
        "print(function())"
      ],
      "metadata": {
        "colab": {
          "base_uri": "https://localhost:8080/"
        },
        "id": "nZG_AzWWw4uO",
        "outputId": "5acc1cc0-0151-443e-9fc6-37726975950f"
      },
      "execution_count": null,
      "outputs": [
        {
          "output_type": "stream",
          "name": "stdout",
          "text": [
            "[   1.            5.62341325   31.6227766   177.827941   1000.        ]\n"
          ]
        }
      ]
    },
    {
      "cell_type": "code",
      "source": [
        "# 24. . Create a Pandas DataFrame using a NumPy array that contains 5 rows and 3 columns, where the values\n",
        "# are random integers between 1 and 100.\n",
        "arr=np.random.randint(1,100,(5,3))\n",
        "print(type(arr))\n",
        "\n",
        "data_frame = pd.DataFrame(arr)\n",
        "print(data_frame)\n",
        "print(type(data_frame))"
      ],
      "metadata": {
        "colab": {
          "base_uri": "https://localhost:8080/"
        },
        "id": "SBBlaFImyUCM",
        "outputId": "deaacfcd-6d0b-424a-89ae-9f446c0e8eb9"
      },
      "execution_count": null,
      "outputs": [
        {
          "output_type": "stream",
          "name": "stdout",
          "text": [
            "<class 'numpy.ndarray'>\n",
            "    0   1   2\n",
            "0  75  26  91\n",
            "1   4  96  88\n",
            "2  86  93   7\n",
            "3  47  16  40\n",
            "4  92  65  52\n",
            "<class 'pandas.core.frame.DataFrame'>\n"
          ]
        }
      ]
    },
    {
      "cell_type": "code",
      "source": [
        "# 25. . Write a function that takes a Pandas DataFrame and replaces all negative values in a specific column\n",
        "# with zeros. Use NumPy operations within the Pandas DataFrame\n",
        "def neg_to_zero(df,column):\n",
        "  df[column] = np.where(df[column]<0 ,0,df[column])\n",
        "  return df\n",
        "data = {'A': [10, -5, 20, -3, 30], 'B': [-1, 2, -3, 4, 5]}\n",
        "df=pd.DataFrame(data)\n",
        "print(\"Before the operation \")\n",
        "print(df)\n",
        "\n",
        "df=neg_to_zero(df,'A')\n",
        "print(\"After the data frame \")\n",
        "print(df)\n",
        "\n",
        "\n"
      ],
      "metadata": {
        "colab": {
          "base_uri": "https://localhost:8080/"
        },
        "id": "SWnFlaPxy5L8",
        "outputId": "44b76a77-2b47-45d4-cd07-cb4876b607a7"
      },
      "execution_count": null,
      "outputs": [
        {
          "output_type": "stream",
          "name": "stdout",
          "text": [
            "Before the operation \n",
            "    A  B\n",
            "0  10 -1\n",
            "1  -5  2\n",
            "2  20 -3\n",
            "3  -3  4\n",
            "4  30  5\n",
            "After the data frame \n",
            "    A  B\n",
            "0  10 -1\n",
            "1   0  2\n",
            "2  20 -3\n",
            "3   0  4\n",
            "4  30  5\n"
          ]
        }
      ]
    },
    {
      "cell_type": "code",
      "source": [
        "# 26.Access the 3rd element from the given NumPy array\n",
        "arr = np.array([10, 20, 30, 40, 50])\n",
        "\n",
        "print(\"The third element is :\",arr[2])"
      ],
      "metadata": {
        "colab": {
          "base_uri": "https://localhost:8080/"
        },
        "id": "_-nrX_h1019F",
        "outputId": "7caf02fd-736e-42de-da50-edf5a119d233"
      },
      "execution_count": null,
      "outputs": [
        {
          "output_type": "stream",
          "name": "stdout",
          "text": [
            "The third element is : 30\n"
          ]
        }
      ]
    },
    {
      "cell_type": "code",
      "source": [
        "# 27. Retrieve the element at index (1, 2) from the 2D NumPy array.\n",
        "arr_2d = np.array([[1, 2, 3],\n",
        "                   [4, 5, 6],\n",
        "                   [7, 8, 9]])\n",
        "\n",
        "print(arr_2d[1][2])"
      ],
      "metadata": {
        "colab": {
          "base_uri": "https://localhost:8080/"
        },
        "id": "_xqv-JLB1N3T",
        "outputId": "15511d50-36b9-4567-c909-bd7d8a0e43bd"
      },
      "execution_count": null,
      "outputs": [
        {
          "output_type": "stream",
          "name": "stdout",
          "text": [
            "6\n"
          ]
        }
      ]
    },
    {
      "cell_type": "code",
      "source": [
        "# 28. Using boolean indexing, extract elements greater than 5 from the given NumPy array\n",
        "arr = np.array([3, 8, 2, 10, 5, 7])\n",
        "arr[arr>5]"
      ],
      "metadata": {
        "colab": {
          "base_uri": "https://localhost:8080/"
        },
        "id": "1boH5kva1nMT",
        "outputId": "376f130b-eb79-49ae-ce26-371a86adaaab"
      },
      "execution_count": null,
      "outputs": [
        {
          "output_type": "execute_result",
          "data": {
            "text/plain": [
              "array([ 8, 10,  7])"
            ]
          },
          "metadata": {},
          "execution_count": 29
        }
      ]
    },
    {
      "cell_type": "code",
      "source": [
        "# 29.  Perform basic slicing to extract elements from index 2 to 5 (inclusive) from the given NumPy array\n",
        "arr = np.array([1, 2, 3, 4, 5, 6, 7, 8, 9])\n",
        "print(arr[2:6])"
      ],
      "metadata": {
        "colab": {
          "base_uri": "https://localhost:8080/"
        },
        "id": "BlZAXBYr2HOC",
        "outputId": "9be16fe0-ce77-4a1f-9950-e89e01d6a314"
      },
      "execution_count": null,
      "outputs": [
        {
          "output_type": "stream",
          "name": "stdout",
          "text": [
            "[3 4 5 6]\n"
          ]
        }
      ]
    },
    {
      "cell_type": "code",
      "source": [
        "# 30. Slice the 2D NumPy array to extract the sub-array `[[2, 3], [5, 6]]` from the given array.\n",
        "arr_2d = np.array([[1, 2, 3],\n",
        "                   [4, 5, 6],\n",
        "                   [7, 8, 9]])\n",
        "\n",
        "print(arr_2d[0:2,1:3])"
      ],
      "metadata": {
        "colab": {
          "base_uri": "https://localhost:8080/"
        },
        "id": "C5-a8JDy2h0r",
        "outputId": "84c8acbd-e105-4806-c49b-490baf394c76"
      },
      "execution_count": null,
      "outputs": [
        {
          "output_type": "stream",
          "name": "stdout",
          "text": [
            "[[2 3]\n",
            " [5 6]]\n"
          ]
        }
      ]
    },
    {
      "cell_type": "code",
      "source": [
        "# 31.Write a NumPy function to extract elements in specific order from a given 2D array based on indices\n",
        "# provided in another array.\n",
        "\n",
        "def extract_elements(arr,indexes):\n",
        "  return arr.flatten()[indexes]\n",
        "arr = np.array([[1, 2, 3],\n",
        "                   [4, 5, 6],\n",
        "                   [7, 8, 9]])\n",
        "indexes = [1,3,5]\n",
        "result = extract_elements(arr,indexes)\n",
        "print(result)"
      ],
      "metadata": {
        "colab": {
          "base_uri": "https://localhost:8080/"
        },
        "id": "g8rQNQ4G3BaK",
        "outputId": "c2ea8b7d-da6a-4fe4-a8cf-7e42ddbba923"
      },
      "execution_count": null,
      "outputs": [
        {
          "output_type": "stream",
          "name": "stdout",
          "text": [
            "[2 4 6]\n"
          ]
        }
      ]
    },
    {
      "cell_type": "code",
      "source": [
        "# 32. Create a NumPy function that filters elements greater than a threshold from a given 1D array using\n",
        "# boolean indexing.\n",
        "\n",
        "def numpy_function(arr,threshold):\n",
        "  return arr[arr>threshold]\n",
        "arr=np.array([1,4,56,2,4,254,7,9,534,5,133,44,5,90])\n",
        "threshold=int(input(\"Enter threshold :\"))\n",
        "print(numpy_function(arr,threshold))"
      ],
      "metadata": {
        "colab": {
          "base_uri": "https://localhost:8080/"
        },
        "id": "FrZc-daV4e-K",
        "outputId": "f3870abc-8332-49cc-8794-888ddef2458a"
      },
      "execution_count": null,
      "outputs": [
        {
          "output_type": "stream",
          "name": "stdout",
          "text": [
            "Enter threshold :23\n",
            "[ 56 254 534 133  44  90]\n"
          ]
        }
      ]
    },
    {
      "cell_type": "code",
      "source": [
        "# 33. Develop a NumPy function that extracts specific elements from a 3D array using indices provided in three\n",
        "# separate arrays for each dimension.\n",
        "def extract_elements_3d(arr, row_indices, col_indices, depth_indices):\n",
        "    return arr[row_indices, col_indices, depth_indices]\n",
        "\n",
        "arr = np.array([[[1, 2, 3], [4, 5, 6]],\n",
        "                [[7, 8, 9], [10, 11, 12]]])\n",
        "\n",
        "row_indices = [0, 1]\n",
        "col_indices = [0, 1]\n",
        "depth_indices = [2, 1]\n",
        "\n",
        "result = extract_elements_3d(arr, row_indices, col_indices, depth_indices)\n",
        "\n",
        "print(\"Extracted elements:\", result)\n"
      ],
      "metadata": {
        "colab": {
          "base_uri": "https://localhost:8080/"
        },
        "id": "8PvZLDqN53gZ",
        "outputId": "b7e5b3f1-fa17-4f10-b193-99afdc88a578"
      },
      "execution_count": null,
      "outputs": [
        {
          "output_type": "stream",
          "name": "stdout",
          "text": [
            "Extracted elements: [ 3 11]\n"
          ]
        }
      ]
    },
    {
      "cell_type": "code",
      "source": [
        "# 34. Write a NumPy function that returns elements from an array where both two conditions are satisfied\n",
        "# using boolean indexing.\n",
        "\n",
        "def numpy_function(arr):\n",
        "  return arr[(arr>1) & (arr<100)]\n",
        "arr=np.array([1,4,56,2,4,254,7,9,534,5,133,44,5,90])\n",
        "print(numpy_function(arr))"
      ],
      "metadata": {
        "colab": {
          "base_uri": "https://localhost:8080/"
        },
        "id": "vtHAmujR8DCu",
        "outputId": "0847c5a8-c781-4588-fb8c-1f6d0d24248d"
      },
      "execution_count": null,
      "outputs": [
        {
          "output_type": "stream",
          "name": "stdout",
          "text": [
            "[ 4 56  2  4  7  9  5 44  5 90]\n"
          ]
        }
      ]
    },
    {
      "cell_type": "code",
      "source": [
        "# 35. Create a NumPy function that extracts elements from a 2D array using row and column indices provided\n",
        "# in separate arrays.\n",
        "\n",
        "def extract(arr,rows,cols):\n",
        "  return arr[rows,cols]\n",
        "\n",
        "rows = [0,1,2]\n",
        "cols = [1,2,0]\n",
        "arr = np.array([[10, 20, 30],\n",
        "                [40, 50, 60],\n",
        "                [70, 80, 90]])\n",
        "print(extract(arr,rows,cols))\n"
      ],
      "metadata": {
        "colab": {
          "base_uri": "https://localhost:8080/"
        },
        "id": "oJSstCLQ8nYl",
        "outputId": "04607d8d-8bf0-4b4f-98e4-fa5e4533ffe9"
      },
      "execution_count": null,
      "outputs": [
        {
          "output_type": "stream",
          "name": "stdout",
          "text": [
            "[20 60 70]\n"
          ]
        }
      ]
    },
    {
      "cell_type": "code",
      "source": [
        "# 36.  Given an array arr of shape (3, 3), add a scalar value of 5 to each element using NumPy broadcasting.\n",
        "arr=np.random.randint(1,20,(3,3))\n",
        "print(arr)\n",
        "arr = arr+10\n",
        "print(arr)"
      ],
      "metadata": {
        "id": "aHctXi_J-RHl",
        "colab": {
          "base_uri": "https://localhost:8080/"
        },
        "outputId": "f07b09f4-fe15-4c57-8dbb-3cfdabb101b5"
      },
      "execution_count": null,
      "outputs": [
        {
          "output_type": "stream",
          "name": "stdout",
          "text": [
            "[[ 1  2  6]\n",
            " [ 6 12 11]\n",
            " [19  4  9]]\n",
            "[[11 12 16]\n",
            " [16 22 21]\n",
            " [29 14 19]]\n"
          ]
        }
      ]
    },
    {
      "cell_type": "code",
      "source": [
        "# 37.Consider two arrays arr1 of shape (1, 3) and arr2 of shape (3, 4). Multiply each row of arr2 by the\n",
        "# corresponding element in arr1 using NumPy broadcasting.\n",
        "arr1=np.random.randint(1,10,(1,3))\n",
        "arr2=np.random.randint(1,20,(3,4))\n",
        "result = arr1.T  * arr2\n",
        "print(result)\n",
        "\n"
      ],
      "metadata": {
        "colab": {
          "base_uri": "https://localhost:8080/"
        },
        "id": "4Ao0Vzjo-5Bc",
        "outputId": "3d88b537-7745-4330-b734-7e4cacf99ca3"
      },
      "execution_count": null,
      "outputs": [
        {
          "output_type": "stream",
          "name": "stdout",
          "text": [
            "[[ 32  18  10  30]\n",
            " [ 40  55  25  15]\n",
            " [ 77  35 133  28]]\n"
          ]
        }
      ]
    },
    {
      "cell_type": "code",
      "source": [
        "# 38. Given a 1D array arr1 of shape (1, 4) and a 2D array arr2 of shape (4, 3), add arr1 to each row of arr2 using\n",
        "# NumPy broadcasting.\n",
        "arr1=np.random.randint(1,10,(1,4))\n",
        "arr2=np.random.randint(1,20,(4,3))\n",
        "print(\"arr1 :\")\n",
        "print(arr1)\n",
        "print(\"arr2 :\")\n",
        "print(arr2)\n",
        "result = arr1[:,:3] + arr2\n",
        "print(\"Result :\")\n",
        "print(result)\n"
      ],
      "metadata": {
        "colab": {
          "base_uri": "https://localhost:8080/"
        },
        "id": "mD_F5YeyAGUD",
        "outputId": "779522e7-3360-4d8e-d532-4469355ed813"
      },
      "execution_count": null,
      "outputs": [
        {
          "output_type": "stream",
          "name": "stdout",
          "text": [
            "arr1 :\n",
            "[[3 8 8 1]]\n",
            "arr2 :\n",
            "[[15 19 13]\n",
            " [ 3  5 15]\n",
            " [ 7 11 12]\n",
            " [ 6  5  3]]\n",
            "Result :\n",
            "[[18 27 21]\n",
            " [ 6 13 23]\n",
            " [10 19 20]\n",
            " [ 9 13 11]]\n"
          ]
        }
      ]
    },
    {
      "cell_type": "code",
      "source": [
        "# 39. Consider two arrays arr1 of shape (3, 1) and arr2 of shape (1, 3). Add these arrays using NumPy broadcasting.\n",
        "arr1=np.random.randint(1,10,(3,1))\n",
        "arr2=np.random.randint(1,10,(1,3))\n",
        "print(\"arr1 :\")\n",
        "print(arr1)\n",
        "print(\"arr2 :\")\n",
        "print(arr2)\n",
        "result = arr1 + arr2\n",
        "print(\"Result :\")\n",
        "print(result)\n",
        "\n"
      ],
      "metadata": {
        "colab": {
          "base_uri": "https://localhost:8080/"
        },
        "id": "3ebB7Le7Bsqz",
        "outputId": "26c3aaef-1a85-4193-cbe7-44a5d551b85e"
      },
      "execution_count": null,
      "outputs": [
        {
          "output_type": "stream",
          "name": "stdout",
          "text": [
            "arr1 :\n",
            "[[7]\n",
            " [9]\n",
            " [5]]\n",
            "arr2 :\n",
            "[[7 1 8]]\n",
            "Result :\n",
            "[[14  8 15]\n",
            " [16 10 17]\n",
            " [12  6 13]]\n"
          ]
        }
      ]
    },
    {
      "cell_type": "code",
      "source": [
        "# 40. Given arrays arr1 of shape (2, 3) and arr2 of shape (2, 2), perform multiplication using NumPy\n",
        "# broadcasting. Handle the shape incompatibility.\n",
        "arr1=np.random.randint(1,10,(2,3))\n",
        "arr2=np.random.randint(1,10,(2,2))\n",
        "print(\"arr1 :\")\n",
        "print(arr1)\n",
        "print(\"arr2 :\")\n",
        "print(arr2)\n",
        "result = arr1[:,:2] * arr2\n",
        "print(\"Result :\")\n",
        "print(result)\n"
      ],
      "metadata": {
        "colab": {
          "base_uri": "https://localhost:8080/"
        },
        "id": "ljD3D4cvD7KB",
        "outputId": "e2f9a741-363c-43c2-9fd7-71a7fbc2cda5"
      },
      "execution_count": null,
      "outputs": [
        {
          "output_type": "stream",
          "name": "stdout",
          "text": [
            "arr1 :\n",
            "[[2 5 5]\n",
            " [8 1 1]]\n",
            "arr2 :\n",
            "[[5 3]\n",
            " [1 4]]\n",
            "Result :\n",
            "[[10 15]\n",
            " [ 8  4]]\n"
          ]
        }
      ]
    },
    {
      "cell_type": "code",
      "source": [
        "# 41. Calculate column wise mean for the given array:\n",
        "arr = np.array([[1, 2, 3], [4, 5, 6]])\n",
        "print(arr)\n",
        "print(\"Column wise mean is :\",np.mean(arr,axis=0))"
      ],
      "metadata": {
        "colab": {
          "base_uri": "https://localhost:8080/"
        },
        "id": "PMsHAW9VEVB4",
        "outputId": "4a5f0dd8-0ee8-4f26-eddb-eb7b1234d2aa"
      },
      "execution_count": null,
      "outputs": [
        {
          "output_type": "stream",
          "name": "stdout",
          "text": [
            "[[1 2 3]\n",
            " [4 5 6]]\n",
            "Column wise mean is : [2.5 3.5 4.5]\n"
          ]
        }
      ]
    },
    {
      "cell_type": "code",
      "source": [
        "# 42.  Find maximum value in each row of the given array:\n",
        "arr = np.array([[1, 2, 3], [4, 5, 6]])\n",
        "print(arr)\n",
        "print(\"The maximum value in each row :\",np.max(arr,axis=1))"
      ],
      "metadata": {
        "colab": {
          "base_uri": "https://localhost:8080/"
        },
        "id": "EGITFU5wEr9v",
        "outputId": "e30b8042-4bed-4404-9d86-ceb24c53d4bc"
      },
      "execution_count": null,
      "outputs": [
        {
          "output_type": "stream",
          "name": "stdout",
          "text": [
            "[[1 2 3]\n",
            " [4 5 6]]\n",
            "The maximum value in each row : [3 6]\n"
          ]
        }
      ]
    },
    {
      "cell_type": "code",
      "source": [
        "# 43.  For the given array, find indices of maximum value in each column.\n",
        "arr = np.array([[1, 2, 3], [4, 5, 6]])\n",
        "print(\"Array:\")\n",
        "print(arr)\n",
        "\n",
        "col_max_indexes = np.argmax(arr,axis=0)\n",
        "print(\"indices of maximum value in each column :\",col_max_indexes)"
      ],
      "metadata": {
        "colab": {
          "base_uri": "https://localhost:8080/"
        },
        "id": "-PNce2NWFpYn",
        "outputId": "979e771a-61ef-459e-ad58-6a15dec98e95"
      },
      "execution_count": null,
      "outputs": [
        {
          "output_type": "stream",
          "name": "stdout",
          "text": [
            "Array:\n",
            "[[1 2 3]\n",
            " [4 5 6]]\n",
            "indices of maximum value in each column : [1 1 1]\n"
          ]
        }
      ]
    },
    {
      "cell_type": "code",
      "source": [
        "# 44.For the given array, apply custom function to calculate moving sum along rows\n",
        "\n",
        "def custom_sum(arr,window_size=2):\n",
        "  result=[]\n",
        "  for row in arr:\n",
        "    row_sum = [sum(row[i:i+window_size]) for i in range(len(row) -window_size+1)]\n",
        "    result.append(row_sum)\n",
        "  return result\n",
        "\n",
        "\n",
        "arr = np.array([[1, 2, 3], [4, 5, 6]])\n",
        "print(\"Array:\")\n",
        "print(arr)\n",
        "\n",
        "print(\"sum along rows :\", custom_sum(arr))\n",
        "\n"
      ],
      "metadata": {
        "colab": {
          "base_uri": "https://localhost:8080/"
        },
        "id": "s_lo88WwGoJo",
        "outputId": "289dde77-add0-4a3a-e5ad-f1a35fc3ee3e"
      },
      "execution_count": null,
      "outputs": [
        {
          "output_type": "stream",
          "name": "stdout",
          "text": [
            "Array:\n",
            "[[1 2 3]\n",
            " [4 5 6]]\n",
            "sum along rows : [[3, 5], [9, 11]]\n"
          ]
        }
      ]
    },
    {
      "cell_type": "code",
      "source": [
        "# 45.In the given array, check if all elements in each column are even.\n",
        "arr = np.array([[2, 4, 6], [3, 5, 7]])\n",
        "\n",
        "result = np.all(arr%2==0, axis =0)\n",
        "print(\"Result :\",result)\n"
      ],
      "metadata": {
        "colab": {
          "base_uri": "https://localhost:8080/"
        },
        "id": "OW4p55ctHKrm",
        "outputId": "be5d01f7-fe3d-4337-f0eb-cfc21b154df5"
      },
      "execution_count": null,
      "outputs": [
        {
          "output_type": "stream",
          "name": "stdout",
          "text": [
            "Result : [False False False]\n"
          ]
        }
      ]
    },
    {
      "cell_type": "code",
      "source": [
        "# 46.Given a NumPy array arr, reshape it into a matrix of dimensions `m` rows and `n` columns. Return the\n",
        "# reshaped matrix.\n",
        "\n",
        "original_array = np.array([1, 2, 3, 4, 5, 6])\n",
        "print(\"Original_array :\",original_array)\n",
        "print(\"Reshaped Matrix :\")\n",
        "print(original_array.reshape(2,3))"
      ],
      "metadata": {
        "colab": {
          "base_uri": "https://localhost:8080/"
        },
        "id": "fGKnXBtSKdqf",
        "outputId": "f25e20de-20d8-4909-becf-e113a5a4f953"
      },
      "execution_count": null,
      "outputs": [
        {
          "output_type": "stream",
          "name": "stdout",
          "text": [
            "Original_array : [1 2 3 4 5 6]\n",
            "Reshaped Matrix :\n",
            "[[1 2 3]\n",
            " [4 5 6]]\n"
          ]
        }
      ]
    },
    {
      "cell_type": "code",
      "source": [
        "# 47.Create a function that takes a matrix as input and returns the flattened array\n",
        "\n",
        "def flatten(arr):\n",
        "  return arr.flatten()\n",
        "input_matrix = np.array([[1, 2, 3], [4, 5, 6]])\n",
        "print(\"The original array :\")\n",
        "print(input_matrix)\n",
        "\n",
        "print(\"Flatten array :\", flatten(input_matrix))"
      ],
      "metadata": {
        "colab": {
          "base_uri": "https://localhost:8080/"
        },
        "id": "wKoKv_guMj5I",
        "outputId": "e46c5036-92fd-48de-d48e-6eeb5b50ae2b"
      },
      "execution_count": null,
      "outputs": [
        {
          "output_type": "stream",
          "name": "stdout",
          "text": [
            "The original array :\n",
            "[[1 2 3]\n",
            " [4 5 6]]\n",
            "Flatten array : [1 2 3 4 5 6]\n"
          ]
        }
      ]
    },
    {
      "cell_type": "code",
      "source": [
        "# 48. Write a function that concatenates two given arrays along a specified axis.\n",
        "\n",
        "def concatenates(arr1 ,arr2,axis):\n",
        "  return np.concatenate((arr1,arr2),axis=axis)\n",
        "array1 = np.array([[1, 2], [3, 4]])\n",
        "array2 = np.array([[5, 6], [7, 8]])\n",
        "print(\"concatenates with axis_0\")\n",
        "print(concatenates(array1,array2,0))\n",
        "\n",
        "print(\"concatenates with axis_1\")\n",
        "print(concatenates(array1,array2,1))\n"
      ],
      "metadata": {
        "colab": {
          "base_uri": "https://localhost:8080/"
        },
        "id": "ku39D2OXNT-Q",
        "outputId": "763f01aa-c75b-49d3-fe8d-91989d2723ac"
      },
      "execution_count": null,
      "outputs": [
        {
          "output_type": "stream",
          "name": "stdout",
          "text": [
            "concatenates with axis_0\n",
            "[[1 2]\n",
            " [3 4]\n",
            " [5 6]\n",
            " [7 8]]\n",
            "concatenates with axis_1\n",
            "[[1 2 5 6]\n",
            " [3 4 7 8]]\n"
          ]
        }
      ]
    },
    {
      "cell_type": "code",
      "source": [
        "# 49. Create a function that splits an array into multiple sub-arrays along a specified axis.\n",
        "\n",
        "def split(arr,num_splits,axis):\n",
        "  return np.array_split(arr,num_splits,axis=axis)\n",
        "original_array = np.array([[1, 2, 3], [4, 5, 6], [7, 8, 9]])\n",
        "print(\"original_array :\")\n",
        "print(original_array)\n",
        "num_splits=int(input(\"Enter thr number of splits :\"))\n",
        "array_split_axis_0 =split(original_array,num_splits,0)\n",
        "print(\"Array split with axis 0 :\")\n",
        "for sub_arr in array_split_axis_0:\n",
        "  print(sub_arr)\n",
        "array_split_axis_1 =split(original_array,num_splits,1)\n",
        "print(\"Array split with axis 1 :\")\n",
        "for sub_arr in array_split_axis_1:\n",
        "  print(sub_arr)\n"
      ],
      "metadata": {
        "colab": {
          "base_uri": "https://localhost:8080/"
        },
        "id": "zsXPbgyEOMbY",
        "outputId": "05c29c1e-60b8-4908-ae3c-87bed7f4fe4e"
      },
      "execution_count": null,
      "outputs": [
        {
          "output_type": "stream",
          "name": "stdout",
          "text": [
            "original_array :\n",
            "[[1 2 3]\n",
            " [4 5 6]\n",
            " [7 8 9]]\n",
            "Enter thr number of splits :3\n",
            "Array split with axis 0 :\n",
            "[[1 2 3]]\n",
            "[[4 5 6]]\n",
            "[[7 8 9]]\n",
            "Array split with axis 1 :\n",
            "[[1]\n",
            " [4]\n",
            " [7]]\n",
            "[[2]\n",
            " [5]\n",
            " [8]]\n",
            "[[3]\n",
            " [6]\n",
            " [9]]\n"
          ]
        }
      ]
    },
    {
      "cell_type": "code",
      "source": [
        "# 50. Write a function that inserts and then deletes elements from a given array at specified indices.\n",
        "def update(arr,indices_to_insert,values_to_insert,indices_to_delete):\n",
        "  arr = np.insert(arr,indices_to_insert,values_to_insert)\n",
        "  arr =np.delete(arr,indices_to_delete)\n",
        "  return arr\n",
        "original_array = np.array([1, 2, 3, 4, 5])\n",
        "indices_to_insert = [2, 4]\n",
        "values_to_insert = [10, 11]\n",
        "indices_to_delete = [1, 3]\n",
        "updated_array= update(original_array,indices_to_insert,values_to_insert,indices_to_delete)\n",
        "print(\"Original_array :\",original_array)\n",
        "print(\"Updated_array :\",updated_array)"
      ],
      "metadata": {
        "colab": {
          "base_uri": "https://localhost:8080/"
        },
        "id": "cjltQtWuQjZP",
        "outputId": "f74dab79-8227-4673-e26f-4108e2c9b383"
      },
      "execution_count": null,
      "outputs": [
        {
          "output_type": "stream",
          "name": "stdout",
          "text": [
            "Original_array : [1 2 3 4 5]\n",
            "Updated_array : [ 1 10  4 11  5]\n"
          ]
        }
      ]
    },
    {
      "cell_type": "code",
      "source": [
        "# 51.Create a NumPy array `arr1` with random integers and another array `arr2` with integers from 1 to 10.\n",
        "# Perform element-wise addition between `arr1` and `arr2`.\n",
        "arr1 = np.random.randint(11,100,size=10)\n",
        "print(\"Array 1 :\",arr1)\n",
        "arr2= np.arange(1,11)\n",
        "print(\"Array 2 :\",arr2)\n",
        "print(\"Element-wise addition :\")\n",
        "print(arr1+arr2)\n"
      ],
      "metadata": {
        "colab": {
          "base_uri": "https://localhost:8080/"
        },
        "id": "T328YG2JScjF",
        "outputId": "856df470-9708-4c56-eb9c-68559e7428a0"
      },
      "execution_count": null,
      "outputs": [
        {
          "output_type": "stream",
          "name": "stdout",
          "text": [
            "Array 1 : [50 92 45 49 16 19 88 19 85 40]\n",
            "Array 2 : [ 1  2  3  4  5  6  7  8  9 10]\n",
            "Element-wise addition :\n",
            "[51 94 48 53 21 25 95 27 94 50]\n"
          ]
        }
      ]
    },
    {
      "cell_type": "code",
      "source": [
        "# 52. Generate a NumPy array `arr1` with sequential integers from 10 to 1 and another array `arr2` with integers\n",
        "# from 1 to 10. Subtract `arr2` from `arr1` element-wise.\n",
        "arr1 =np.arange(10,0,-1)\n",
        "print(\"Array 1 :\",arr1)\n",
        "arr2= np.arange(1,11)\n",
        "print(\"Array 2 :\",arr2)\n",
        "print(\"Element-wise subraction :\")\n",
        "print(arr1-arr2)\n",
        "\n",
        "\n",
        "\n"
      ],
      "metadata": {
        "colab": {
          "base_uri": "https://localhost:8080/"
        },
        "id": "yFU1yEDqUJpF",
        "outputId": "6442597b-9de6-401f-c31d-9219e92ca544"
      },
      "execution_count": null,
      "outputs": [
        {
          "output_type": "stream",
          "name": "stdout",
          "text": [
            "Array 1 : [10  9  8  7  6  5  4  3  2  1]\n",
            "Array 2 : [ 1  2  3  4  5  6  7  8  9 10]\n",
            "Element-wise subraction :\n",
            "[ 9  7  5  3  1 -1 -3 -5 -7 -9]\n"
          ]
        }
      ]
    },
    {
      "cell_type": "code",
      "source": [
        "# 53. Create a NumPy array `arr1` with random integers and another array `arr2` with integers from 1 to 5.\n",
        "# Perform element-wise multiplication between `arr1` and `arr2`.\n",
        "\n",
        "arr1 = np.random.randint(6,20,size=5)\n",
        "print(\"Array 1 :\",arr1)\n",
        "arr2= np.arange(1,6)\n",
        "print(\"Array 2 :\",arr2)\n",
        "print(\"Element-wise multiplication :\")\n",
        "print(arr1*arr2)\n"
      ],
      "metadata": {
        "colab": {
          "base_uri": "https://localhost:8080/"
        },
        "id": "zFGMDswfVfld",
        "outputId": "36de3e8c-bc3f-4940-c0a6-c8c29a525cff"
      },
      "execution_count": null,
      "outputs": [
        {
          "output_type": "stream",
          "name": "stdout",
          "text": [
            "Array 1 : [16 19 19  6 14]\n",
            "Array 2 : [1 2 3 4 5]\n",
            "Element-wise multiplication :\n",
            "[16 38 57 24 70]\n"
          ]
        }
      ]
    },
    {
      "cell_type": "code",
      "source": [
        "# 54. Generate a NumPy array `arr1` with even integers from 2 to 10 and another array `arr2` with integers from 1\n",
        "# to 5. Perform element-wise division of `arr1` by `arr2`.\n",
        "arr1 = np.arange(2,11,2)\n",
        "print(\"Array 1 :\",arr1)\n",
        "arr2= np.arange(1,6)\n",
        "print(\"Array 2 :\",arr2)\n",
        "print(\"Element-wise multiplication :\")\n",
        "print(arr1*arr2)\n"
      ],
      "metadata": {
        "colab": {
          "base_uri": "https://localhost:8080/"
        },
        "id": "YLERzNQOWCHV",
        "outputId": "cd66a6ca-0747-4ecd-ea7a-a16963e2dbb2"
      },
      "execution_count": null,
      "outputs": [
        {
          "output_type": "stream",
          "name": "stdout",
          "text": [
            "Array 1 : [ 2  4  6  8 10]\n",
            "Array 2 : [1 2 3 4 5]\n",
            "Element-wise multiplication :\n",
            "[ 2  8 18 32 50]\n"
          ]
        }
      ]
    },
    {
      "cell_type": "code",
      "source": [
        "# 55. Create a NumPy array `arr1` with integers from 1 to 5 and another array `arr2` with the same numbers\n",
        "# reversed. Calculate the exponentiation of `arr1` raised to the power of `arr2` element-wise.\n",
        "\n",
        "arr1 = np.arange(1,6)\n",
        "print(\"Array 1 :\",arr1)\n",
        "arr2= np.arange(5,0,-1)\n",
        "print(\"Array 2 :\",arr2)\n",
        "print(\"Exponentiation of `arr1` raised to the power of `arr2`\")\n",
        "print(arr1**arr2)\n"
      ],
      "metadata": {
        "colab": {
          "base_uri": "https://localhost:8080/"
        },
        "id": "nXaG2iJ8WjeU",
        "outputId": "833eb42c-96f8-4dbe-ec2f-31c545439413"
      },
      "execution_count": null,
      "outputs": [
        {
          "output_type": "stream",
          "name": "stdout",
          "text": [
            "Array 1 : [1 2 3 4 5]\n",
            "Array 2 : [5 4 3 2 1]\n",
            "Exponentiation of `arr1` raised to the power of `arr2`\n",
            "[ 1 16 27 16  5]\n"
          ]
        }
      ]
    },
    {
      "cell_type": "code",
      "source": [
        "# 56. Write a function that counts the occurrences of a specific substring within a NumPy array of strings.\n",
        "def count(arr,substring):\n",
        "  return np.char.count(arr,substring)\n",
        "\n",
        "arr = np.array([\"apple banana\", \"banana apple\", \"cherry apple banana\", \"apple pie\", \"grape\"])\n",
        "substring = \"apple\"\n",
        "result = count(arr,substring)\n",
        "print(result)"
      ],
      "metadata": {
        "colab": {
          "base_uri": "https://localhost:8080/"
        },
        "id": "8Y0KPykQXD10",
        "outputId": "aba9ad4e-bba3-43b0-bda8-7d2b618a1757"
      },
      "execution_count": null,
      "outputs": [
        {
          "output_type": "stream",
          "name": "stdout",
          "text": [
            "[1 1 1 1 0]\n"
          ]
        }
      ]
    },
    {
      "cell_type": "code",
      "source": [
        " # 57. Write a function that extracts uppercase characters from a NumPy array of strings.\n",
        "def extract(arr):\n",
        "  return np.array([''.join( char for char in word if char.isupper()) for word in arr])\n",
        "arr = np.array(['Hello', 'World', 'OpenAI', 'GPT'])\n",
        "print(extract(arr))"
      ],
      "metadata": {
        "colab": {
          "base_uri": "https://localhost:8080/"
        },
        "id": "b9Ba3Q0_YPSr",
        "outputId": "be6902d1-99de-435d-ee44-22ecac5c31e9"
      },
      "execution_count": null,
      "outputs": [
        {
          "output_type": "stream",
          "name": "stdout",
          "text": [
            "['H' 'W' 'OAI' 'GPT']\n"
          ]
        }
      ]
    },
    {
      "cell_type": "code",
      "source": [
        "# 58. Write a function that replaces occurrences of a substring in a NumPy array of strings with a new string.\n",
        "def replace(s,old,new):\n",
        "  return np.char.replace(s,old,new)\n",
        "s =[\"cricket bat\",\"cricket ball\",\"cricket player\",\"cricket ground\"]\n",
        "print(\"The original array :\",s)\n",
        "print(\"After replacing :\",replace(s,\"cricket\",\"hockey\"))"
      ],
      "metadata": {
        "colab": {
          "base_uri": "https://localhost:8080/"
        },
        "id": "dOEE0ZjVY3ZL",
        "outputId": "0ac55420-f0e5-44d8-9bf7-6348eb1fb243"
      },
      "execution_count": null,
      "outputs": [
        {
          "output_type": "stream",
          "name": "stdout",
          "text": [
            "The original array : ['cricket bat', 'cricket ball', 'cricket player', 'cricket ground']\n",
            "After replacing : ['hockey bat' 'hockey ball' 'hockey player' 'hockey ground']\n"
          ]
        }
      ]
    },
    {
      "cell_type": "code",
      "source": [
        "# 59.Write a function that concatenates strings in a NumPy array element-wise.\n",
        "def concat(arr1,arr2):\n",
        "  return np.char.add(arr1,arr2)\n",
        "arr1 = np.array(['Hello', 'World'])\n",
        "arr2 = np.array(['Open', 'AI'])\n",
        "print(\"The string concatenate element wise :\",concat(arr1,arr2))\n",
        "\n"
      ],
      "metadata": {
        "colab": {
          "base_uri": "https://localhost:8080/"
        },
        "id": "jGho6sYuc_4y",
        "outputId": "c31f430f-f31c-49ba-c980-c01c74822152"
      },
      "execution_count": null,
      "outputs": [
        {
          "output_type": "stream",
          "name": "stdout",
          "text": [
            "The string concatenate element wise : ['HelloOpen' 'WorldAI']\n"
          ]
        }
      ]
    },
    {
      "cell_type": "code",
      "source": [
        "# 60.Write a function that finds the length of the longest string in a NumPy array.\n",
        "def length(arr):\n",
        "  max_length =0\n",
        "  for i in arr:\n",
        "    max_length = max(len(i),max_length)\n",
        "  return max_length\n",
        "arr = np.array(['apple', 'banana', 'grape', 'pineapple'])\n",
        "print(\"Length of longest string :\",length(arr))"
      ],
      "metadata": {
        "colab": {
          "base_uri": "https://localhost:8080/"
        },
        "id": "vfPDin6HdMEJ",
        "outputId": "4ad24103-64da-40e8-cb4c-5cdeb4c45514"
      },
      "execution_count": null,
      "outputs": [
        {
          "output_type": "stream",
          "name": "stdout",
          "text": [
            "Length of longest string : 9\n"
          ]
        }
      ]
    },
    {
      "cell_type": "code",
      "source": [
        "# 61. Create a dataset of 100 random integers between 1 and 1000. Compute the mean, median, variance, and\n",
        "# standard deviation of the dataset using NumPy's functions.\n",
        "data = np.random.randint(1,1000,100)\n",
        "print(\"Data :\",data)\n",
        "print(\"Mean :\",np.mean(data))\n",
        "print(\"Median :\",np.median(data))\n",
        "print(\"Variance :\",np.var(data))\n",
        "print(\"Standard Deviation :\",np.std(data))\n",
        "\n"
      ],
      "metadata": {
        "colab": {
          "base_uri": "https://localhost:8080/"
        },
        "id": "tHOne583eYAh",
        "outputId": "93404964-7af9-4880-e615-12eae59f19e2"
      },
      "execution_count": null,
      "outputs": [
        {
          "output_type": "stream",
          "name": "stdout",
          "text": [
            "Data : [483 107 992 654 219 304 100 907 667 997  71 737 167 490 334 754 247 611\n",
            " 532 478 292  31 847  47 218 851 538 358 656 635 835 426 773  81 701 716\n",
            "  50 300  81 356 133 765 346 722 382 610 291 160 781  57  91 950 929 657\n",
            " 952 842 795 225 830 249 413 406 148 598 748 212 508 142  62 444 422 621\n",
            " 624 174 194 193 549 227 259 802 613   9 694 283 897 884 341 401 371 490\n",
            " 239  17 689 910 808 980 732 830 578 542]\n",
            "Mean : 484.64\n",
            "Median : 486.5\n",
            "Variance : 82286.3504\n",
            "Standard Deviation : 286.85597501185157\n"
          ]
        }
      ]
    },
    {
      "cell_type": "code",
      "source": [
        "# 62.Generate an array of 50 random numbers between 1 and 100. Find the 25th and 75th percentiles of the dataset.\n",
        "data = np.random.randint(1,100,50)\n",
        "print(data)\n",
        "percentile_25 = np.percentile(data,25)\n",
        "percentile_75 = np.percentile(data,75)\n",
        "print(\"25th percentile :\",percentile_25)\n",
        "print(\"75th percentile :\",percentile_75)\n"
      ],
      "metadata": {
        "colab": {
          "base_uri": "https://localhost:8080/"
        },
        "id": "9ZWj6iybA7uj",
        "outputId": "6fd95e16-a65a-4b13-b930-40e8ad402cf7"
      },
      "execution_count": null,
      "outputs": [
        {
          "output_type": "stream",
          "name": "stdout",
          "text": [
            "[31 65  9 94 68 96 20 49 62 24 50 31 35 69 96 37  8 90 47  3 96 32  8 48\n",
            " 48  4  4 81 71 86  8 31 38 33 61 12 56 87 66 64 87 49 79 44 13 55 85 38\n",
            " 99 49]\n",
            "25th percentile : 31.0\n",
            "75th percentile : 70.5\n"
          ]
        }
      ]
    },
    {
      "cell_type": "code",
      "source": [
        "# 63. Create two arrays representing two sets of variables. Compute the correlation coefficient between these\n",
        "# arrays using NumPy's `corrcoef` function.\n",
        "data1 = np.random.randint(1,100,50)\n",
        "data2 = np.random.randint(1,100,50)\n",
        "\n",
        "corelation_matrix = np.corrcoef(data1,data2)\n",
        "\n",
        "print(\"Corelation_matrix :\")\n",
        "print(corelation_matrix)\n",
        "print(\"Corelation_value :\")\n",
        "print(corelation_matrix[0][1])"
      ],
      "metadata": {
        "colab": {
          "base_uri": "https://localhost:8080/"
        },
        "id": "-8oB_k0oBxd6",
        "outputId": "3352dfff-9d4a-40d3-ed3f-b5888d1a5a18"
      },
      "execution_count": null,
      "outputs": [
        {
          "output_type": "stream",
          "name": "stdout",
          "text": [
            "Corelation_matrix :\n",
            "[[1.        0.0408688]\n",
            " [0.0408688 1.       ]]\n",
            "Corelation_value :\n",
            "0.04086880277385334\n"
          ]
        }
      ]
    },
    {
      "cell_type": "code",
      "source": [
        "# 64.Create two matrices and perform matrix multiplication using NumPy's `dot` function.\n",
        "data1 = np.random.randint(1,100,(3,3))\n",
        "data2 = np.random.randint(1,100,(3,3))\n",
        "print(\"Matrix Multiplication\")\n",
        "print(np.dot(data1,data2))"
      ],
      "metadata": {
        "colab": {
          "base_uri": "https://localhost:8080/"
        },
        "id": "oQMvMdK1DT-B",
        "outputId": "1de839d2-d54a-46ef-d8b2-1e864ba44d6f"
      },
      "execution_count": null,
      "outputs": [
        {
          "output_type": "stream",
          "name": "stdout",
          "text": [
            "Matrix Multiplication\n",
            "[[10117 10161  5055]\n",
            " [ 7438  8349  4400]\n",
            " [ 8182  9242  6042]]\n"
          ]
        }
      ]
    },
    {
      "cell_type": "code",
      "source": [
        "# 65. Create an array of 50 integers between 10 and 1000. Calculate the 10th, 50th (median), and 90th\n",
        "# percentiles along with the first and third quartiles.\n",
        "data = np.random.randint(10,1001,50)\n",
        "data\n",
        "percentile_10 =np.percentile(data,10)\n",
        "percentile_25 =np.percentile(data,25)\n",
        "percentile_50 =np.percentile(data,50)\n",
        "percentile_75 =np.percentile(data,75)\n",
        "percentile_90 =np.percentile(data,90)\n",
        "\n",
        "print(\"10th percentile :\",percentile_10)\n",
        "print(\"25th percentile :\",percentile_25)\n",
        "print(\"50th percentile :\",percentile_50)\n",
        "print(\"75th percentile :\",percentile_75)\n",
        "print(\"90th percentile :\",percentile_90)"
      ],
      "metadata": {
        "colab": {
          "base_uri": "https://localhost:8080/"
        },
        "id": "e2VJ4novDrxh",
        "outputId": "b1683af7-99c9-48c5-93ee-82c6f94333a2"
      },
      "execution_count": null,
      "outputs": [
        {
          "output_type": "stream",
          "name": "stdout",
          "text": [
            "10th percentile : 73.5\n",
            "25th percentile : 227.25\n",
            "50th percentile : 432.5\n",
            "75th percentile : 738.0\n",
            "90th percentile : 911.1\n"
          ]
        }
      ]
    },
    {
      "cell_type": "code",
      "source": [
        "# 66. Create a NumPy array of integers and find the index of a specific element.\n",
        "arr=np.array([1,3,4,567,65,76,3,54,5,6,3])\n",
        "print(\"Array :\",arr)\n",
        "element=int(input(\"Element :\"))\n",
        "index = np.where(arr==element)\n",
        "print(f\"The index of {element} is {index}\")"
      ],
      "metadata": {
        "colab": {
          "base_uri": "https://localhost:8080/"
        },
        "id": "C66IKrKmE5Lg",
        "outputId": "f16a92f3-d8d4-4a56-d6a8-bbfe1c6932ce"
      },
      "execution_count": null,
      "outputs": [
        {
          "output_type": "stream",
          "name": "stdout",
          "text": [
            "Array : [  1   3   4 567  65  76   3  54   5   6   3]\n",
            "Element :3\n",
            "The index of 3 is (array([ 1,  6, 10]),)\n"
          ]
        }
      ]
    },
    {
      "cell_type": "code",
      "source": [
        "# 67.Generate a random NumPy array and sort it in ascending order\n",
        "data = np.random.randint(1,100,20)\n",
        "print(data)\n",
        "print(\"Array in asending order :\",np.sort(data))"
      ],
      "metadata": {
        "colab": {
          "base_uri": "https://localhost:8080/"
        },
        "id": "80mYKfhAFyBx",
        "outputId": "66c777ca-951c-4752-b678-857bf6e187a8"
      },
      "execution_count": null,
      "outputs": [
        {
          "output_type": "stream",
          "name": "stdout",
          "text": [
            "[85 62 50  9 46 14 18 15 80 25 25 75 99  8 66 76 96 94 49  1]\n",
            "Array in asending order : [ 1  8  9 14 15 18 25 25 46 49 50 62 66 75 76 80 85 94 96 99]\n"
          ]
        }
      ]
    },
    {
      "cell_type": "code",
      "source": [
        "# 68. Filter elements >20  in the given NumPy array.\n",
        "arr = np.array([12, 25, 6, 42, 8, 30])\n",
        "arr[arr>20]"
      ],
      "metadata": {
        "colab": {
          "base_uri": "https://localhost:8080/"
        },
        "id": "I1VRyF9IGLgA",
        "outputId": "18ecd9e6-829d-45cb-c0ae-6939de55f2c3"
      },
      "execution_count": null,
      "outputs": [
        {
          "output_type": "execute_result",
          "data": {
            "text/plain": [
              "array([25, 42, 30])"
            ]
          },
          "metadata": {},
          "execution_count": 25
        }
      ]
    },
    {
      "cell_type": "code",
      "source": [
        "# 69. Filter elements which are divisible by 3 from a given NumPy array.\n",
        "arr = np.array([1, 5, 8, 12, 15])\n",
        "arr[arr%3==0]"
      ],
      "metadata": {
        "colab": {
          "base_uri": "https://localhost:8080/"
        },
        "id": "i3Tp_xeCG3vR",
        "outputId": "9c5f9835-cf78-49ac-b333-3a4c668b6a65"
      },
      "execution_count": null,
      "outputs": [
        {
          "output_type": "execute_result",
          "data": {
            "text/plain": [
              "array([12, 15])"
            ]
          },
          "metadata": {},
          "execution_count": 26
        }
      ]
    },
    {
      "cell_type": "code",
      "source": [
        "# 70.Filter elements which are ≥ 20 and ≤ 40 from a given NumPy array.\n",
        "arr = np.array([10, 20, 30, 40, 50])\n",
        "\n",
        "arr[(arr>=20)&(arr<=40)]"
      ],
      "metadata": {
        "colab": {
          "base_uri": "https://localhost:8080/"
        },
        "id": "hf5LvIh4HBgr",
        "outputId": "cd296354-e5cd-4969-c87c-55936e3835a6"
      },
      "execution_count": null,
      "outputs": [
        {
          "output_type": "execute_result",
          "data": {
            "text/plain": [
              "array([20, 30, 40])"
            ]
          },
          "metadata": {},
          "execution_count": 27
        }
      ]
    },
    {
      "cell_type": "code",
      "source": [
        "# 71.For the given NumPy array, check its byte order using the `dtype` attribute byteorder.\n",
        "arr = np.array([1, 2, 3])\n",
        "print(\"The byte order :\",arr.dtype.byteorder)"
      ],
      "metadata": {
        "id": "iwVB5irTHQTf",
        "colab": {
          "base_uri": "https://localhost:8080/"
        },
        "outputId": "50b2f6fc-dd45-41a1-a25f-07d7f2c2d8b3"
      },
      "execution_count": 29,
      "outputs": [
        {
          "output_type": "stream",
          "name": "stdout",
          "text": [
            "The byte order : =\n"
          ]
        }
      ]
    },
    {
      "cell_type": "code",
      "source": [
        "# 72.For the given NumPy array, perform byte swapping in place using `byteswap()`.\n",
        "arr = np.array([1, 2, 3], dtype=np.int32)\n",
        "arr.byteswap(inplace=True)\n",
        "print(arr)"
      ],
      "metadata": {
        "id": "wWfNa_nTH0M_",
        "colab": {
          "base_uri": "https://localhost:8080/"
        },
        "outputId": "4c4caa4b-fb91-4817-f2a7-dad584e9a6e1"
      },
      "execution_count": 31,
      "outputs": [
        {
          "output_type": "stream",
          "name": "stdout",
          "text": [
            "[16777216 33554432 50331648]\n"
          ]
        }
      ]
    },
    {
      "cell_type": "code",
      "source": [
        "# 73.For the given NumPy array, swap its byte order without modifying the original array using `newbyteorder()`.\n",
        "arr = np.array([1, 2, 3], dtype=np.int32)\n",
        "new_arr =arr.newbyteorder()\n",
        "print(new_arr)"
      ],
      "metadata": {
        "colab": {
          "base_uri": "https://localhost:8080/"
        },
        "id": "xfy4zSGHJaJu",
        "outputId": "06093963-49bc-4057-e9b2-e424f891f021"
      },
      "execution_count": 34,
      "outputs": [
        {
          "output_type": "stream",
          "name": "stdout",
          "text": [
            "[16777216 33554432 50331648]\n"
          ]
        }
      ]
    },
    {
      "cell_type": "code",
      "source": [
        "# 74.For the given NumPy array and swap its byte order conditionally based on system endianness using `newbyteorder()`.\n",
        "arr = np.array([1, 2, 3], dtype=np.int32)\n",
        "if arr.dtype.byteorder ==\"=\":\n",
        "  swapped_arr = arr.newbyteorder()\n",
        "else:\n",
        "  swapped_arr = arr\n",
        "print(\"Original Array :\",arr)\n",
        "print(\"Swapped Array :\",swapped_arr)\n",
        "print(\"Original Array byeteorder :\",arr.dtype.byteorder)\n",
        "print(\"Swapped Array :\",swapped_arr.dtype.byteorder)"
      ],
      "metadata": {
        "colab": {
          "base_uri": "https://localhost:8080/"
        },
        "id": "DtfrDywLJ0pl",
        "outputId": "b9e1926f-ecab-4fcb-959d-a690ed459c85"
      },
      "execution_count": 38,
      "outputs": [
        {
          "output_type": "stream",
          "name": "stdout",
          "text": [
            "Original Array : [1 2 3]\n",
            "Swapped Array : [16777216 33554432 50331648]\n",
            "Original Array byeteorder : =\n",
            "Swapped Array : >\n"
          ]
        }
      ]
    },
    {
      "cell_type": "code",
      "source": [
        "# 75.For the given NumPy array, check if byte swapping is necessary for the current system using `dtype`\n",
        "# attribute `byteorder`.\n",
        "\n",
        "arr = np.array([1, 2, 3], dtype=np.int32)\n",
        "\n",
        "if arr.dtype.byteorder =='=':\n",
        "  print(\"Byte swap is not necessary\")\n",
        "else:\n",
        "  print(\"Byte swap is necessary\")"
      ],
      "metadata": {
        "colab": {
          "base_uri": "https://localhost:8080/"
        },
        "id": "yqpgh35TLHiX",
        "outputId": "bebcba93-5c73-4ec8-dab9-16e23668a18b"
      },
      "execution_count": 40,
      "outputs": [
        {
          "output_type": "stream",
          "name": "stdout",
          "text": [
            "Byte swap is not necessary\n"
          ]
        }
      ]
    },
    {
      "cell_type": "code",
      "source": [
        "# 76.Create a NumPy array `arr1` with values from 1 to 10. Create a copy of `arr1` named `copy_arr` and modify\n",
        "# an element in `copy_arr`. Check if modifying `copy_arr` affects `arr1`.\n",
        "\n",
        "arr1 = np.arange(1,11)\n",
        "copy_arr = arr1.copy()\n",
        "print(\"Original Array :\",arr1)\n",
        "print(\"Copy Array :\",copy_arr)\n",
        "copy_arr[0]=1111111\n",
        "if np.array_equal(arr1,copy_arr):\n",
        "  print(\"modifying copy_arr is  affecting arr1\")\n",
        "else:\n",
        "  print(\"modifying copy_arr is not affecting arr1\")\n"
      ],
      "metadata": {
        "colab": {
          "base_uri": "https://localhost:8080/"
        },
        "id": "bHITZJqWMLDH",
        "outputId": "8ba2e4ad-0e84-4bb7-866e-eb7edce954c9"
      },
      "execution_count": 60,
      "outputs": [
        {
          "output_type": "stream",
          "name": "stdout",
          "text": [
            "Original Array : [ 1  2  3  4  5  6  7  8  9 10]\n",
            "Copy Array : [ 1  2  3  4  5  6  7  8  9 10]\n",
            "modifying copy_arr is not affecting arr1\n"
          ]
        }
      ]
    },
    {
      "cell_type": "code",
      "source": [
        "# 77.Create a 2D NumPy array `matrix` of shape (3, 3) with random integers. Extract a slice `view_slice` from\n",
        "# the matrix. Modify an element in `view_slice` and observe if it changes the original `matrix`.\n",
        "\n",
        "matrix = np.random.randint(1,20,(3,3))\n",
        "view_slice = matrix[:2,:2]\n",
        "print(\"Original matrix :\")\n",
        "print(matrix)\n",
        "print(\"View Slice\")\n",
        "print(view_slice)\n",
        "view_slice[0][0]=66\n",
        "print(\"Updated View_slice \")\n",
        "print(view_slice)\n",
        "if np.array_equal(matrix[:2,:2],view_slice):\n",
        "  print(\"modifying view_slice is  affecting matrix\")\n",
        "else:\n",
        "  print(\"modifying view_slice is not affecting matrix\")\n"
      ],
      "metadata": {
        "colab": {
          "base_uri": "https://localhost:8080/"
        },
        "id": "63fUaKKUM4k2",
        "outputId": "8a098496-612e-4be4-bfe6-6c40a5569549"
      },
      "execution_count": 67,
      "outputs": [
        {
          "output_type": "stream",
          "name": "stdout",
          "text": [
            "Original matrix :\n",
            "[[ 7 10 18]\n",
            " [18 16  7]\n",
            " [ 5  7 13]]\n",
            "View Slice\n",
            "[[ 7 10]\n",
            " [18 16]]\n",
            "Updated View_slice \n",
            "[[66 10]\n",
            " [18 16]]\n",
            "modifying view_slice is  affecting matrix\n"
          ]
        }
      ]
    },
    {
      "cell_type": "code",
      "source": [
        "# 78.Create a NumPy array `array_a` of shape (4, 3) with sequential integers from 1 to 12. Extract a slice\n",
        "# `view_b` from `array_a` and broadcast the addition of 5 to view_b. Check if it alters the original `array_a`.\n",
        "\n",
        "array_a = np.arange(1,13).reshape(4,3)\n",
        "view_b = array_a[:2,:2]\n",
        "print(\"Original array_a :\")\n",
        "print(array_a)\n",
        "print(\"View_b\")\n",
        "print(view_b)\n",
        "view_b+=5\n",
        "print(\"Updated View_b \")\n",
        "print(view_slice)\n",
        "if np.array_equal(array_a[:2,:2],view_b):\n",
        "  print(\"modifying view_b is affecting array_a\")\n",
        "else:\n",
        "  print(\"modifying view_b is not affecting array_a\")\n"
      ],
      "metadata": {
        "colab": {
          "base_uri": "https://localhost:8080/"
        },
        "id": "lSLaesriOhRW",
        "outputId": "fa01dc37-6b12-4149-81df-b57b613c9bad"
      },
      "execution_count": 70,
      "outputs": [
        {
          "output_type": "stream",
          "name": "stdout",
          "text": [
            "Original array_a :\n",
            "[[ 1  2  3]\n",
            " [ 4  5  6]\n",
            " [ 7  8  9]\n",
            " [10 11 12]]\n",
            "View_b\n",
            "[[1 2]\n",
            " [4 5]]\n",
            "Updated View_b \n",
            "[[66 10]\n",
            " [18 16]]\n",
            "[[ 6  7  3]\n",
            " [ 9 10  6]\n",
            " [ 7  8  9]\n",
            " [10 11 12]]\n",
            "modifying view_b is affecting array_a\n"
          ]
        }
      ]
    },
    {
      "cell_type": "code",
      "source": [
        "# 79. Create a NumPy array `orig_array` of shape (2, 4) with values from 1 to 8. Create a reshaped view\n",
        "# `reshaped_view` of shape (4, 2) from orig_array. Modify an element in `reshaped_view` and check if it\n",
        "# reflects changes in the original `orig_array`.\n",
        "orig_array = np.arange(1,9).reshape(2,4)\n",
        "reshaped_view = orig_array.reshape(4,2)\n",
        "\n",
        "print(\"Original Array :\")\n",
        "print(orig_array)\n",
        "reshaped_view+=6\n",
        "print(\"Updated reshaped array :\")\n",
        "print(reshaped_view)\n",
        "print(orig_array)\n",
        "if np.array_equal(orig_array,reshaped_view):\n",
        "  print(\"modifying reshaped_view is affecting orig_array\")\n",
        "else:\n",
        "  print(\"modifying reshaped_view is not affecting orig_array\")\n",
        "\n"
      ],
      "metadata": {
        "colab": {
          "base_uri": "https://localhost:8080/"
        },
        "id": "vRhwtoxrQf7b",
        "outputId": "4189d216-13ff-4ef2-8ce9-b55fce98a728"
      },
      "execution_count": 75,
      "outputs": [
        {
          "output_type": "stream",
          "name": "stdout",
          "text": [
            "Original Array :\n",
            "[[1 2 3 4]\n",
            " [5 6 7 8]]\n",
            "Updated reshaped array :\n",
            "[[ 7  8]\n",
            " [ 9 10]\n",
            " [11 12]\n",
            " [13 14]]\n",
            "[[ 7  8  9 10]\n",
            " [11 12 13 14]]\n",
            "modifying reshaped_view is not affecting orig_array\n"
          ]
        }
      ]
    },
    {
      "cell_type": "code",
      "source": [
        "# 80. Create a NumPy array `data` of shape (3, 4) with random integers. Extract a copy `data_copy` of\n",
        "# elements greater than 5. Modify an element in `data_copy` and verify if it affects the original `data`\n",
        "\n",
        "data = np.random.randint(1,20,(3,4))\n",
        "data_copy = data[data>5]\n",
        "print(data)\n",
        "print(data_copy)\n",
        "data_copy[0] =100\n",
        "print(\"Modified data_copy :\",data_copy)\n",
        "if np.array_equal(data_copy,data):\n",
        "  print(\"Affects data\")\n",
        "else:\n",
        "  print(\"Does not affects data\")"
      ],
      "metadata": {
        "colab": {
          "base_uri": "https://localhost:8080/"
        },
        "id": "Up_H7EF7RkT1",
        "outputId": "28a4349f-6f11-40bf-b2b6-23efc129e545"
      },
      "execution_count": 76,
      "outputs": [
        {
          "output_type": "stream",
          "name": "stdout",
          "text": [
            "[[ 4 17  1 16]\n",
            " [ 4  2 14 19]\n",
            " [ 3  3 10  4]]\n",
            "[17 16 14 19 10]\n",
            "Modified data_copy : [100  16  14  19  10]\n",
            "Does not affects data\n"
          ]
        }
      ]
    },
    {
      "cell_type": "code",
      "source": [
        "# 81.Create two matrices A and B of identical shape containing integers and perform addition and subtraction\n",
        "# operations between them.\n",
        "A = np.random.randint(1,20,(3,3))\n",
        "B = np.random.randint(1,20,(3,3))\n",
        "print(\"A:\")\n",
        "print(A)\n",
        "print(\"B:\")\n",
        "print(B)\n",
        "print(\"Addition :\")\n",
        "print(np.add(A,B))\n",
        "print(\"Subraction :\")\n",
        "print(np.subtract(A,B))\n"
      ],
      "metadata": {
        "colab": {
          "base_uri": "https://localhost:8080/"
        },
        "id": "YihUifw3WMVA",
        "outputId": "191318f6-6b9f-4b89-9fcc-0492a999c03f"
      },
      "execution_count": 80,
      "outputs": [
        {
          "output_type": "stream",
          "name": "stdout",
          "text": [
            "A:\n",
            "[[ 9  2  4]\n",
            " [ 3  3 10]\n",
            " [19  9 12]]\n",
            "B:\n",
            "[[14 13  1]\n",
            " [11 19  5]\n",
            " [ 9  6 10]]\n",
            "Addition :\n",
            "[[23 15  5]\n",
            " [14 22 15]\n",
            " [28 15 22]]\n",
            "Subraction :\n",
            "[[ -5 -11   3]\n",
            " [ -8 -16   5]\n",
            " [ 10   3   2]]\n"
          ]
        }
      ]
    },
    {
      "cell_type": "code",
      "source": [
        "# 82. Generate two matrices `C` (3x2) and `D` (2x4) and perform matrix multiplication.\n",
        "C = np.random.randint(1,20,(3,2))\n",
        "D = np.random.randint(1,20,(2,4))\n",
        "print(\"C :\")\n",
        "print(C)\n",
        "print(\"D :\")\n",
        "print(D)\n",
        "print(\"Multipliaction :\")\n",
        "print(np.dot(C,D))"
      ],
      "metadata": {
        "colab": {
          "base_uri": "https://localhost:8080/"
        },
        "id": "u55NQQfxXwmw",
        "outputId": "27e6a5e5-fd10-4f90-92a6-7976b13f8644"
      },
      "execution_count": 82,
      "outputs": [
        {
          "output_type": "stream",
          "name": "stdout",
          "text": [
            "C :\n",
            "[[19 19]\n",
            " [17 15]\n",
            " [ 7  1]]\n",
            "D :\n",
            "[[11 10 18 11]\n",
            " [ 4 16  4  9]]\n",
            "Multipliaction :\n",
            "[[285 494 418 380]\n",
            " [247 410 366 322]\n",
            " [ 81  86 130  86]]\n"
          ]
        }
      ]
    },
    {
      "cell_type": "code",
      "source": [
        "# 83.Create a matrix `E` and find its transpose.\n",
        "E = np.random.randint(1,15,(2,4))\n",
        "print(\"E :\")\n",
        "print(E)\n",
        "print(\"Transpose of E :\")\n",
        "print(E.T)"
      ],
      "metadata": {
        "colab": {
          "base_uri": "https://localhost:8080/"
        },
        "id": "j_FDbgO-YgK4",
        "outputId": "4047355e-4bee-45c1-f1a4-bafa32f08203"
      },
      "execution_count": 84,
      "outputs": [
        {
          "output_type": "stream",
          "name": "stdout",
          "text": [
            "E :\n",
            "[[ 7 13  9  6]\n",
            " [ 9  9  9 13]]\n",
            "Transpose of E :\n",
            "[[ 7  9]\n",
            " [13  9]\n",
            " [ 9  9]\n",
            " [ 6 13]]\n"
          ]
        }
      ]
    },
    {
      "cell_type": "code",
      "source": [
        "# 84. Generate a square matrix `F` and compute its determinant.\n",
        "F = np.random.randint(1,10,(3,3))\n",
        "print(\"F :\")\n",
        "print(F)\n",
        "print(\"Determent of F :\")\n",
        "print(np.linalg.det(F))"
      ],
      "metadata": {
        "colab": {
          "base_uri": "https://localhost:8080/"
        },
        "id": "foWc4W8nY8q4",
        "outputId": "48861468-48fa-4fc4-976c-0c0fe0fad6fa"
      },
      "execution_count": 86,
      "outputs": [
        {
          "output_type": "stream",
          "name": "stdout",
          "text": [
            "F :\n",
            "[[4 4 7]\n",
            " [9 8 3]\n",
            " [5 8 2]]\n",
            "Determent of F :\n",
            "180.0\n"
          ]
        }
      ]
    },
    {
      "cell_type": "code",
      "source": [
        "# 85.  Create a square matrix `G` and find its inverse\n",
        "G = np.random.randint(1,10,(3,3))\n",
        "print(\"G :\")\n",
        "print(G)\n",
        "print(\"Inverse of G\")\n",
        "print(np.linalg.inv(G))"
      ],
      "metadata": {
        "colab": {
          "base_uri": "https://localhost:8080/"
        },
        "id": "GMedMB-1ZVkf",
        "outputId": "f332ce58-125a-4e04-bc3f-147af5f31c22"
      },
      "execution_count": 87,
      "outputs": [
        {
          "output_type": "stream",
          "name": "stdout",
          "text": [
            "G :\n",
            "[[7 1 3]\n",
            " [8 7 9]\n",
            " [3 7 8]]\n",
            "Inverse of G\n",
            "[[-0.36842105  0.68421053 -0.63157895]\n",
            " [-1.94736842  2.47368421 -2.05263158]\n",
            " [ 1.84210526 -2.42105263  2.15789474]]\n"
          ]
        }
      ]
    },
    {
      "cell_type": "code",
      "source": [],
      "metadata": {
        "id": "tAQpppGoZwyv"
      },
      "execution_count": null,
      "outputs": []
    }
  ]
}