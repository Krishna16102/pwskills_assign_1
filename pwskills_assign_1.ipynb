{
  "nbformat": 4,
  "nbformat_minor": 0,
  "metadata": {
    "colab": {
      "provenance": []
    },
    "kernelspec": {
      "name": "python3",
      "display_name": "Python 3"
    },
    "language_info": {
      "name": "python"
    }
  },
  "cells": [
    {
      "cell_type": "code",
      "source": [
        "# 1.Write a code to reverse a string\n",
        "word = input(\"Enter the word :\")\n",
        "reverse_word = word[::-1]\n",
        "print(reverse_word)"
      ],
      "metadata": {
        "colab": {
          "base_uri": "https://localhost:8080/"
        },
        "id": "TokT5ZXh-Na0",
        "outputId": "7f676291-ece6-46d9-c279-4f6a0935fba0"
      },
      "execution_count": 10,
      "outputs": [
        {
          "output_type": "stream",
          "name": "stdout",
          "text": [
            "Enter the word :harsha\n",
            "ahsrah\n"
          ]
        }
      ]
    },
    {
      "cell_type": "code",
      "source": [
        "# 2.Write a code to count the number of vowels in a string\n",
        "word = input(\"Enter thr word :\")\n",
        "vowels = \"aeiouAEIOU\"\n",
        "count =0\n",
        "for i in word:\n",
        "  if i in vowels:\n",
        "    count= count +1\n",
        "print(count)"
      ],
      "metadata": {
        "colab": {
          "base_uri": "https://localhost:8080/"
        },
        "id": "3RcjFMO0-bg6",
        "outputId": "21c79970-f570-44ab-afdc-008376aa4ce1"
      },
      "execution_count": 14,
      "outputs": [
        {
          "output_type": "stream",
          "name": "stdout",
          "text": [
            "Enter thr word :malyalum\n",
            "3\n"
          ]
        }
      ]
    },
    {
      "cell_type": "code",
      "source": [
        "# 3. Write a code to check if a given string is a palindrome or not\n",
        "\n",
        "word = input(\"Enter the word :\")\n",
        "reverse_word = word[::-1]\n",
        "\n",
        "if word == reverse_word:\n",
        "  print(\"The word \",word,\" is palindrome\")\n",
        "else:\n",
        "  print(\"The word \",word,\" is not palindrome\")\n",
        ""
      ],
      "metadata": {
        "colab": {
          "base_uri": "https://localhost:8080/"
        },
        "id": "Cty3xBAWAIrs",
        "outputId": "bdac3d1b-84d5-4e8c-f795-226e6147a23e"
      },
      "execution_count": 13,
      "outputs": [
        {
          "output_type": "stream",
          "name": "stdout",
          "text": [
            "Enter the word :krish\n",
            "The word  krish  is not palindrome\n"
          ]
        }
      ]
    },
    {
      "cell_type": "code",
      "source": [
        "# 4. Write a code to check if two given strings are anagrams of each other.\n",
        "\n",
        "word1 = input(\"Enter the word1 :\")\n",
        "word2 = input(\"Enter the word2 :\")\n",
        "\n",
        "if sorted(word1)==sorted(word2):\n",
        "  print(\"The given strings are anagrams of each other.\")\n",
        "else:\n",
        "  print(\"The given strings are not anagrams of each other.\")\n",
        "\n"
      ],
      "metadata": {
        "colab": {
          "base_uri": "https://localhost:8080/"
        },
        "id": "McPeP8v_B_rM",
        "outputId": "cecaa432-c7ca-4ab9-b34c-c207c281d7e3"
      },
      "execution_count": 17,
      "outputs": [
        {
          "output_type": "stream",
          "name": "stdout",
          "text": [
            "Enter the word1 :hjkas\n",
            "Enter the word2 :jaskj\n",
            "The given strings are not anagrams of each other.\n"
          ]
        }
      ]
    },
    {
      "cell_type": "code",
      "source": [
        "# 5.Write a code to find all occurrences of a given substring within another string\n",
        "text = input(\"Enter the main string: \")\n",
        "substring = input(\"Enter the substring to search for: \")\n",
        "\n",
        "occurrences = []\n",
        "start = 0\n",
        "\n",
        "while True:\n",
        "    start = text.find(substring, start)\n",
        "    if start == -1:\n",
        "        break\n",
        "    occurrences.append(start)\n",
        "    start += 1\n",
        "\n",
        "print(\"Occurrences \", occurrences)\n"
      ],
      "metadata": {
        "colab": {
          "base_uri": "https://localhost:8080/"
        },
        "id": "0Av7hIVFDUFT",
        "outputId": "b0e24bc0-8b85-47bd-ae55-e058b31e03ea"
      },
      "execution_count": 20,
      "outputs": [
        {
          "output_type": "stream",
          "name": "stdout",
          "text": [
            "Enter the main string: pwskills\n",
            "Enter the substring to search for: s\n",
            "Occurrences  [2, 7]\n"
          ]
        }
      ]
    },
    {
      "cell_type": "code",
      "source": [
        "# 6.Write a code to perform basic string compression using the counts of repeated characters\n",
        "text= input(\"Enter text :\")\n",
        "compressed = \"\"\n",
        "c =1\n",
        "for i in range(1,len(text)):\n",
        "  if text[i]==text[i-1]:\n",
        "    c=c+1\n",
        "  else:\n",
        "    compressed += text[i-1] + str(c)\n",
        "    c=1\n",
        "compressed+=text[-1] +str(c)\n",
        "\n",
        "print(\"Compressed text :\",compressed)\n",
        "\n"
      ],
      "metadata": {
        "colab": {
          "base_uri": "https://localhost:8080/"
        },
        "id": "r0CcKaZPE-5K",
        "outputId": "cd58cf50-712c-49dc-a618-ba3854baaa84"
      },
      "execution_count": 64,
      "outputs": [
        {
          "output_type": "stream",
          "name": "stdout",
          "text": [
            "Enter text :aaaaahhhhhhhhh\n",
            "Compressed text : a5h9\n"
          ]
        }
      ]
    },
    {
      "cell_type": "code",
      "source": [
        "# 7.Write a code to determine if a string has all unique characters\n",
        "\n",
        "string = input(\"Enter string :\")\n",
        "string =sorted(string)\n",
        "flag =0\n",
        "for i in range(0,len(string)-1):\n",
        "  if string[i]==string[i+1]:\n",
        "    print(\"String has duplicates in it.\")\n",
        "    flag = 1\n",
        "    break\n",
        "if flag==0:\n",
        "  print(\"String has all unique characters\")"
      ],
      "metadata": {
        "colab": {
          "base_uri": "https://localhost:8080/"
        },
        "id": "_2azhX_RHCLi",
        "outputId": "6e084161-9671-42c0-9621-3034e693af2f"
      },
      "execution_count": 36,
      "outputs": [
        {
          "output_type": "stream",
          "name": "stdout",
          "text": [
            "Enter string :krish\n",
            "String has all unique characters\n"
          ]
        }
      ]
    },
    {
      "cell_type": "code",
      "source": [
        " # 8.Write a code to convert a given string to uppercase or lowercase\n",
        "word = input(\"Enter string\")\n",
        "string_lower = word.lower()\n",
        "string_upper = word.upper()\n",
        "print(\"The string in upper case : \",string_upper)\n",
        "print(\"The string in lower case : \",string_lower)\n"
      ],
      "metadata": {
        "colab": {
          "base_uri": "https://localhost:8080/"
        },
        "id": "DFI2i7hgI_YB",
        "outputId": "13b3dced-b0cf-4aad-8494-b437c336920a"
      },
      "execution_count": 37,
      "outputs": [
        {
          "output_type": "stream",
          "name": "stdout",
          "text": [
            "Enter stringDRVGYBHJK,klfjhkgbdjx\n",
            "The string in upper case :  DRVGYBHJK,KLFJHKGBDJX\n",
            "The string in lower case :  drvgybhjk,klfjhkgbdjx\n"
          ]
        }
      ]
    },
    {
      "cell_type": "code",
      "source": [
        "# 9.Write a code to count the number of words in a string\n",
        "\n",
        "word =input(\"Enter String :\")\n",
        "\n",
        "words_list = word.split(' ')\n",
        "print(\"The number of words present in the string :\",len(words_list))"
      ],
      "metadata": {
        "colab": {
          "base_uri": "https://localhost:8080/"
        },
        "id": "YdxE1Lu6MiW4",
        "outputId": "cc2c804e-b2d2-4015-90b8-0a711d97f6c1"
      },
      "execution_count": 39,
      "outputs": [
        {
          "output_type": "stream",
          "name": "stdout",
          "text": [
            "Enter String :Write a code to count the number of words in a string\n",
            "The number of words present in the string : 12\n"
          ]
        }
      ]
    },
    {
      "cell_type": "code",
      "source": [
        "# 10.Write a code to concatenate two strings without using the + operator\n",
        "s1=input(\"Enter string1 :\")\n",
        "s2=input(\"Enter string2 :\")\n",
        "concat_string=\"{}{}\"\n",
        "print(\"The concat string is :\",concat_string.format(s1,s2))\n"
      ],
      "metadata": {
        "colab": {
          "base_uri": "https://localhost:8080/"
        },
        "id": "OWg9zXBANZgf",
        "outputId": "bfc8185d-e0e3-490d-a4b9-e0e627ed7351"
      },
      "execution_count": 2,
      "outputs": [
        {
          "output_type": "stream",
          "name": "stdout",
          "text": [
            "Enter string1 :nani\n",
            "Enter string2 :nani\n",
            "The concat string is : naninani\n"
          ]
        }
      ]
    },
    {
      "cell_type": "code",
      "source": [
        "# 11.Write a code to remove all occurrences of a specific element from a list\n",
        "list = [1,2,3,4,5,6,6,7,6, 6, 7, 7, 7, 8, 8, 8, 8]\n",
        "print(list)\n",
        "element = int(input(\"Enter element to remove :\"))\n",
        "while element in list:\n",
        "  list.remove(element)\n",
        "print(list)"
      ],
      "metadata": {
        "colab": {
          "base_uri": "https://localhost:8080/"
        },
        "id": "gDez6_fB-43M",
        "outputId": "e7699a5e-310b-4561-a426-642bb4b5f2c9"
      },
      "execution_count": 6,
      "outputs": [
        {
          "output_type": "stream",
          "name": "stdout",
          "text": [
            "[1, 2, 3, 4, 5, 6, 6, 7, 6, 6, 7, 7, 7, 8, 8, 8, 8]\n",
            "Enter element to remove :7\n",
            "[1, 2, 3, 4, 5, 6, 6, 6, 6, 8, 8, 8, 8]\n"
          ]
        }
      ]
    },
    {
      "cell_type": "code",
      "source": [
        " # 12. Implement a code to find the second largest number in a given list of integers\n",
        " list =[1,2,3,4,5,6,6,8,9,10,11,11,11,11]\n",
        " list = sorted(list,reverse=True)\n",
        " for i in range(1,len(list)):\n",
        "  if list[i]!=list[i-1]:\n",
        "    print(\"The second largest element is :\",list[i])\n",
        "    break\n",
        ""
      ],
      "metadata": {
        "colab": {
          "base_uri": "https://localhost:8080/"
        },
        "id": "bc9VO0OaAKZz",
        "outputId": "5fcd43dc-d4d7-486a-fc3d-b0cf1aae7ec3"
      },
      "execution_count": 67,
      "outputs": [
        {
          "output_type": "stream",
          "name": "stdout",
          "text": [
            "The second largest element is : 10\n"
          ]
        }
      ]
    },
    {
      "cell_type": "code",
      "source": [
        "# 13. Create a code to count the occurrences of each element in a list and return a dictionary with elements as keys and their counts as values\n",
        "\n",
        "list = [1,2,3,4,5,6,6,7,6, 6, 7, 7, 7, 8, 8, 8, 8]\n",
        "d ={}\n",
        "for i in list:\n",
        "  if i in d:\n",
        "    d[i] = d[i]+1\n",
        "  else:\n",
        "    d[i] =1\n",
        "print(d)"
      ],
      "metadata": {
        "colab": {
          "base_uri": "https://localhost:8080/"
        },
        "id": "dWw5W-7xCCB6",
        "outputId": "5b9ef816-ee0c-4922-c2db-7bfaab40a79d"
      },
      "execution_count": 68,
      "outputs": [
        {
          "output_type": "stream",
          "name": "stdout",
          "text": [
            "{1: 1, 2: 1, 3: 1, 4: 1, 5: 1, 6: 4, 7: 4, 8: 4}\n"
          ]
        }
      ]
    },
    {
      "cell_type": "code",
      "source": [
        "# 14. Write a code to reverse a list in-place without using any built-in reverse functions\n",
        "list = [1,2,3,4,5,6,6,7,6, 6, 7, 7, 7, 8, 8, 8, 8]\n",
        "reverse_list=[]\n",
        "for i in range(len(list)-1,-1,-1):\n",
        "  reverse_list.append(list[i])\n",
        "print(reverse_list)"
      ],
      "metadata": {
        "colab": {
          "base_uri": "https://localhost:8080/"
        },
        "id": "mYF75bSkDpDa",
        "outputId": "37c70be7-2e07-42a1-cf70-98146268d7fa"
      },
      "execution_count": 20,
      "outputs": [
        {
          "output_type": "stream",
          "name": "stdout",
          "text": [
            "[8, 8, 8, 8, 7, 7, 7, 6, 6, 7, 6, 6, 5, 4, 3, 2, 1]\n"
          ]
        }
      ]
    },
    {
      "cell_type": "code",
      "source": [
        "# 15.Implement a code to find and remove duplicates from a list while preserving the original order of elements\n",
        "list = [1,2,3,4,5,6,6,7,6, 6, 7, 7, 7, 8, 8, 8, 8]\n",
        "res=[]\n",
        "\n",
        "for i in list:\n",
        "  if i not in res:\n",
        "    res.append(i)\n",
        "print(res)"
      ],
      "metadata": {
        "colab": {
          "base_uri": "https://localhost:8080/"
        },
        "id": "oixGbEo2EZGh",
        "outputId": "7b5fed90-70d0-4bf9-c9e4-3b2afb55d353"
      },
      "execution_count": 25,
      "outputs": [
        {
          "output_type": "stream",
          "name": "stdout",
          "text": [
            "[1, 2, 3, 4, 5, 6, 7, 8]\n"
          ]
        }
      ]
    },
    {
      "cell_type": "code",
      "source": [
        "# 16. Create a code to check if a given list is sorted (either in ascending or descending order) or not\n",
        "list = [1,23,4354,12,56,78]\n",
        "asend = sorted(list)\n",
        "desend = sorted(list,reverse=True)\n",
        "if(list ==asend or list==desend):\n",
        "  print(\"The list is sorted\")\n",
        "else:\n",
        "  print(\"The list is not sorted\")\n",
        "\n"
      ],
      "metadata": {
        "colab": {
          "base_uri": "https://localhost:8080/"
        },
        "id": "HdvPz6GtGbeA",
        "outputId": "80490b50-82ae-4a7e-e462-9e972f32d822"
      },
      "execution_count": 69,
      "outputs": [
        {
          "output_type": "stream",
          "name": "stdout",
          "text": [
            "The list is not sorted\n"
          ]
        }
      ]
    },
    {
      "cell_type": "code",
      "source": [
        "# 17. Write a code to merge two sorted lists into a single sorted list\n",
        "list1 = [2,3,4,8]\n",
        "list2 = [5,6,9,10,12]\n",
        "result= []\n",
        "i,j = 0,0\n",
        "\n",
        "while i<len(list1) and  j <len(list2):\n",
        "  if list1[i] <list2[j]:\n",
        "    result.append(list1[i])\n",
        "    i+=1\n",
        "  else:\n",
        "    result.append(list2[j])\n",
        "    j+=1\n",
        "result.extend(list1[i:])\n",
        "result.extend(list2[j:])\n",
        "print(result)\n",
        "\n"
      ],
      "metadata": {
        "colab": {
          "base_uri": "https://localhost:8080/"
        },
        "id": "kDkeSHkMHmno",
        "outputId": "239d5fae-2039-410b-9757-b8ba1fbce045"
      },
      "execution_count": 30,
      "outputs": [
        {
          "output_type": "stream",
          "name": "stdout",
          "text": [
            "[2, 3, 4, 5, 6, 8, 9, 10, 12]\n"
          ]
        }
      ]
    },
    {
      "cell_type": "code",
      "source": [
        "# 18. Implement a code to find the intersection of two given lists\n",
        "list1 = [1,2,3,4,5]\n",
        "list2 =[3,4,5,6,7,8]\n",
        "intersection =set()\n",
        "for i in list1:\n",
        "  if i in list2:\n",
        "    intersection.add(i)\n",
        "print(\"intersection of two lists: \",intersection)"
      ],
      "metadata": {
        "colab": {
          "base_uri": "https://localhost:8080/"
        },
        "id": "N1-OEtEOKZ-l",
        "outputId": "976c1acf-2b81-45ab-adfd-d694619e401a"
      },
      "execution_count": 31,
      "outputs": [
        {
          "output_type": "stream",
          "name": "stdout",
          "text": [
            "intersection of two lists:  {3, 4, 5}\n"
          ]
        }
      ]
    },
    {
      "cell_type": "code",
      "source": [
        "# 19.Create a code to find the union of two lists without duplicates\n",
        "list1 = [1,2,3,4,5]\n",
        "list2 =[3,4,5,6,7,8]\n",
        "union = set()\n",
        "for i in list1:\n",
        "  union.add(i)\n",
        "\n",
        "for i in list2:\n",
        "  union.add(i)\n",
        "\n",
        "print(union)"
      ],
      "metadata": {
        "colab": {
          "base_uri": "https://localhost:8080/"
        },
        "id": "Bw1TQtHYLdzk",
        "outputId": "c6331822-8573-4028-c910-c896bfce92a3"
      },
      "execution_count": 32,
      "outputs": [
        {
          "output_type": "stream",
          "name": "stdout",
          "text": [
            "{1, 2, 3, 4, 5, 6, 7, 8}\n"
          ]
        }
      ]
    },
    {
      "cell_type": "code",
      "source": [
        "# 20.Write a code to shuffle a given list randomly without using any built-in shuffle functions\n",
        "import random\n",
        "list=[1,2,3,4,5,6,7,8,9,10]\n",
        "\n",
        "for i in range(len(list)-1,0,-1):\n",
        "  j = random.randint(0,i)\n",
        "  list[i],list[j]= list[j],list[i]\n",
        "print(\"The shuffled list :\",list)\n",
        "\n"
      ],
      "metadata": {
        "colab": {
          "base_uri": "https://localhost:8080/"
        },
        "id": "sDefFQYZL-88",
        "outputId": "3965c40d-061d-49a5-bd9b-310dd7ea8035"
      },
      "execution_count": 33,
      "outputs": [
        {
          "output_type": "stream",
          "name": "stdout",
          "text": [
            "The shuffled list : [8, 4, 7, 10, 1, 3, 6, 9, 5, 2]\n"
          ]
        }
      ]
    },
    {
      "cell_type": "code",
      "source": [
        "# 21. Write a code that takes two tuples as input and returns a new tuple containing elements that are common to both input tuples\n",
        "t1 = tuple(map(int,input(\"Enter elements tuple 1 separetd by space :\").split()))\n",
        "t2 = tuple(map(int,input(\"Enter elements tuple 2 separetd by space :\").split()))\n",
        "\n",
        "result = tuple( set(t1) & set(t2) )\n",
        "print(\"The common elements in both tuples \",result)"
      ],
      "metadata": {
        "colab": {
          "base_uri": "https://localhost:8080/"
        },
        "id": "sw_Wa9RmM0dD",
        "outputId": "46651a93-4786-4da3-bd48-63dcf82513f6"
      },
      "execution_count": 15,
      "outputs": [
        {
          "output_type": "stream",
          "name": "stdout",
          "text": [
            "Enter elements tuple 1 :1 2 3\n",
            "Enter elements tuple 2 :1 2 7\n",
            "The common elements in both tuples  (1, 2)\n"
          ]
        }
      ]
    },
    {
      "cell_type": "code",
      "source": [
        "# 22. Create a code that prompts the user to enter two sets of integers separated by commas. Then, print the intersection of these two sets\n",
        "s1 = set(map(int,input(\"Enter elements set 1 separated by comma:\").split(',')))\n",
        "s2 = set(map(int,input(\"Enter elements set 2 separated by comma:\").split(',')))\n",
        "\n",
        "print(\"The intersection of two sets is :\",s1.intersection(s2))\n"
      ],
      "metadata": {
        "colab": {
          "base_uri": "https://localhost:8080/"
        },
        "id": "L_dje41hFV29",
        "outputId": "babf0608-ed52-4bfe-c731-5cebfce06e22"
      },
      "execution_count": 19,
      "outputs": [
        {
          "output_type": "stream",
          "name": "stdout",
          "text": [
            "Enter elements set 1 :1,2,3,4,5,6,7,8\n",
            "Enter elements set 2 :5,6,7,8,4\n",
            "The intersection of two sets is : {4, 5, 6, 7, 8}\n"
          ]
        }
      ]
    },
    {
      "cell_type": "code",
      "source": [
        "# 23 . Write a code to concatenate two tuples. The function should take two tuples as input and return a new tuple containing elements from both input tuples.\n",
        "t1 = tuple(map(int,input(\"Enter elements tuple 1 separetd by space :\").split()))\n",
        "t2 = tuple(map(int,input(\"Enter elements tuple 2 separetd by space :\").split()))\n",
        "result = t1 + t2\n",
        "print(\"The elements in both tuples \",result)\n"
      ],
      "metadata": {
        "colab": {
          "base_uri": "https://localhost:8080/"
        },
        "id": "fQqBkyihIDVB",
        "outputId": "6454acf4-4e34-47d2-d21b-43da3772dd23"
      },
      "execution_count": 22,
      "outputs": [
        {
          "output_type": "stream",
          "name": "stdout",
          "text": [
            "Enter elements tuple 1 :1 2 3 4\n",
            "Enter elements tuple 2 :2 3 4 4 7\n",
            "The elements in both tuples  (1, 2, 3, 4, 2, 3, 4, 4, 7)\n"
          ]
        }
      ]
    },
    {
      "cell_type": "code",
      "source": [
        "# 24.Develop a code that prompts the user to input two sets of strings. Then, print the elements that are present in the first set but not in the second set&\n",
        "s1 = set(map(str,input(\"Enter strings set 1 separated by comma:\").split(',')))\n",
        "s2 = set(map(str,input(\"Enter strings set 2 separated by comma:\").split(',')))\n",
        "print(\"the elements that are present in the first set but not in the second set are :\",s1.difference(s2))\n"
      ],
      "metadata": {
        "colab": {
          "base_uri": "https://localhost:8080/"
        },
        "id": "Fr99BMc0JAOA",
        "outputId": "abfd87c8-f9d7-4e75-f065-a3cd47077cd2"
      },
      "execution_count": 24,
      "outputs": [
        {
          "output_type": "stream",
          "name": "stdout",
          "text": [
            "Enter strings set 1 separated by comma:a,b,c,d\n",
            "Enter strings set 2 separated by comma:c,d,g\n",
            "the elements that are present in the first set but not in the second set are : {'a', 'b'}\n"
          ]
        }
      ]
    },
    {
      "cell_type": "code",
      "source": [
        "# 25. Create a code that takes a tuple and two integers as input. The function should return a new tuple containing elements from the original tuple within the specified range of indices\n",
        "t1 = tuple(map(int,input(\"Enter elements tuple 1 separetd by space :\").split()))\n",
        "ind1 = int(input(\"Enter the index 1 :\"))\n",
        "ind2 = int(input(\"Enter the index 2 :\"))\n",
        "print(t1[ind1:ind2+1])"
      ],
      "metadata": {
        "colab": {
          "base_uri": "https://localhost:8080/"
        },
        "id": "fZKQPjH5KOS4",
        "outputId": "69cb6ba8-8def-4b24-f699-985d6f7953cd"
      },
      "execution_count": 25,
      "outputs": [
        {
          "output_type": "stream",
          "name": "stdout",
          "text": [
            "Enter elements tuple 1 separetd by space :1 2 3 4 5 6 7 8 9 10\n",
            "Enter the index 13\n",
            "Enter the index 26\n",
            "(4, 5, 6, 7)\n"
          ]
        }
      ]
    },
    {
      "cell_type": "code",
      "source": [
        "# 26. Write a code that prompts the user to input two sets of characters. Then, print the union of these two sets\n",
        "s1 = set(map(str,input(\"Enter strings set 1 separated by comma:\").split(',')))\n",
        "s2 = set(map(str,input(\"Enter strings set 2 separated by comma:\").split(',')))\n",
        "print(\"The union of two sets :\",s1.union(s2))\n"
      ],
      "metadata": {
        "colab": {
          "base_uri": "https://localhost:8080/"
        },
        "id": "wLWoaFBnLrMP",
        "outputId": "698d48e0-40fd-4589-9018-b3000f4bc603"
      },
      "execution_count": 26,
      "outputs": [
        {
          "output_type": "stream",
          "name": "stdout",
          "text": [
            "Enter strings set 1 separated by comma:a,c,b,s,f,g,r,wws,f,f\n",
            "Enter strings set 2 separated by comma:a,c,f,t\n",
            "The union of two sets : {'g', 'f', 'b', 'a', 's', 'c', 'r', 't', 'wws'}\n"
          ]
        }
      ]
    },
    {
      "cell_type": "code",
      "source": [
        "# 27. Develop a code that takes a tuple of integers as input. The function should return the maximum and minimum values from the tuple using tuple unpacking\n",
        "t1 = tuple(map(int,input(\"Enter elements tuple 1 separetd by space :\").split()))\n",
        "print(\"The maximum value :\",max(t1))\n",
        "print(\"The minimum value :\",min(t1))"
      ],
      "metadata": {
        "colab": {
          "base_uri": "https://localhost:8080/"
        },
        "id": "oelbulEpMVqP",
        "outputId": "931fdbf9-ee81-499b-b6bc-527fdbf69030"
      },
      "execution_count": 27,
      "outputs": [
        {
          "output_type": "stream",
          "name": "stdout",
          "text": [
            "Enter elements tuple 1 separetd by space :1 2 3 4 5 6 7 8 9\n",
            "The maximum value : 9\n",
            "The minimum value : 1\n"
          ]
        }
      ]
    },
    {
      "cell_type": "code",
      "source": [
        "# 28. Create a code that defines two sets of integers. Then, print the union, intersection, and difference of these two sets\n",
        "s1 = set(map(int,input(\"Enter elements set 1 separated by comma:\").split(',')))\n",
        "s2 = set(map(int,input(\"Enter elements set 2 separated by comma:\").split(',')))\n",
        "print(\"The union of two sets is :\",s1.union(s2))\n",
        "print(\"The intersection of two sets is :\",s1.intersection(s2))\n",
        "print(\"The difference of two sets is :\",s1.difference(s2))"
      ],
      "metadata": {
        "colab": {
          "base_uri": "https://localhost:8080/"
        },
        "id": "TZG0G9JTNE_f",
        "outputId": "7008ee5b-2f87-4f01-c678-856f8beb5d82"
      },
      "execution_count": 28,
      "outputs": [
        {
          "output_type": "stream",
          "name": "stdout",
          "text": [
            "Enter elements set 1 separated by comma:1,2,3,4,5,6\n",
            "Enter elements set 2 separated by comma:3,4,5,6,7,8,9\n",
            "The union of two sets is : {1, 2, 3, 4, 5, 6, 7, 8, 9}\n",
            "The intersection of two sets is : {3, 4, 5, 6}\n",
            "The difference of two sets is : {1, 2}\n"
          ]
        }
      ]
    },
    {
      "cell_type": "code",
      "source": [
        "# 29. Write a code that takes a tuple and an element as input. The function should return the count of occurrences of the given element in the tuple\n",
        "t1 = tuple(map(str,input(\"Enter elements tuple 1 separetd by space :\").split()))\n",
        "element = input(\"Enter the elment :\")\n",
        "print(\"The count of occurrences of the given element in the tuple :\",t1.count(element))"
      ],
      "metadata": {
        "colab": {
          "base_uri": "https://localhost:8080/"
        },
        "id": "Ge17-sTLNs1e",
        "outputId": "21c6bd85-a5e5-4ea1-a0d7-b5da2a08554d"
      },
      "execution_count": 30,
      "outputs": [
        {
          "output_type": "stream",
          "name": "stdout",
          "text": [
            "Enter elements tuple 1 separetd by space :1 2 3 4\n",
            "Enter the elment :4\n",
            "The count of occurrences of the given element in the tuple : 1\n"
          ]
        }
      ]
    },
    {
      "cell_type": "code",
      "source": [
        "# 30.  Develop a code that prompts the user to input two sets of strings. Then, print the symmetric difference of these two sets\n",
        "s1 = set(map(str,input(\"Enter strings set 1 separated by comma:\").split(',')))\n",
        "s2 = set(map(str,input(\"Enter strings set 2 separated by comma:\").split(',')))\n",
        "print(\"The symmetric difference of two sets :\",s1.symmetric_difference(s2))"
      ],
      "metadata": {
        "colab": {
          "base_uri": "https://localhost:8080/"
        },
        "id": "jTZwnetDOTZN",
        "outputId": "db37c2b6-89df-4636-8108-9d70d3580813"
      },
      "execution_count": 31,
      "outputs": [
        {
          "output_type": "stream",
          "name": "stdout",
          "text": [
            "Enter strings set 1 separated by comma:1,2,3,4,5,6,7\n",
            "Enter strings set 2 separated by comma:5,6,7,8,9\n",
            "The symmetric difference of two sets : {'2', '3', '9', '8', '1', '4'}\n"
          ]
        }
      ]
    },
    {
      "cell_type": "code",
      "source": [
        "# 31. Write a code that takes a list of words as input and returns a dictionary where the keys are unique words and the values are the frequencies of those words in the input list\n",
        "t1 = input(\"Enter the words separated by space\").split(' ')\n",
        "d = {}\n",
        "\n",
        "for i in t1:\n",
        "  d[i]= t1.count(i)\n",
        "print(d)"
      ],
      "metadata": {
        "colab": {
          "base_uri": "https://localhost:8080/"
        },
        "id": "S1WLAlIZO4Wu",
        "outputId": "d5c7e172-aeb2-438c-ceb0-f2f024a83263"
      },
      "execution_count": 37,
      "outputs": [
        {
          "output_type": "stream",
          "name": "stdout",
          "text": [
            "Enter the words separated by spacea a a a a a a a a  e e e e e\n",
            "{'a': 9, '': 1, 'e': 5}\n"
          ]
        }
      ]
    },
    {
      "cell_type": "code",
      "source": [
        "# 32.Write a code that takes two dictionaries as input and merges them into a single dictionary. If there are common keys, the values should be added together&\n",
        "d1 = {}\n",
        "num_entries = int(input(\"How many key-value pairs do you want to enter? \"))\n",
        "\n",
        "for _ in range(num_entries):\n",
        "    key = input(\"Enter key: \")\n",
        "    value = int(input(\"Enter value: \"))\n",
        "    d1[key] = value\n",
        "\n",
        "d2 = {}\n",
        "num_entries = int(input(\"How many key-value pairs do you want to enter? \"))\n",
        "\n",
        "for _ in range(num_entries):\n",
        "    key = input(\"Enter key: \")\n",
        "    value = int(input(\"Enter value: \"))\n",
        "    d2[key] = value\n",
        "\n",
        "result = d1.copy()\n",
        "\n",
        "for key,value in d2.items():\n",
        "  if key in d1:\n",
        "    result[key]+=value\n",
        "  else:\n",
        "    result[key] = value\n",
        "print(result)"
      ],
      "metadata": {
        "colab": {
          "base_uri": "https://localhost:8080/"
        },
        "id": "QlH3K1ktYWcU",
        "outputId": "1e466de5-389c-432b-81a2-6b1e5fdcd0de"
      },
      "execution_count": 44,
      "outputs": [
        {
          "output_type": "stream",
          "name": "stdout",
          "text": [
            "How many key-value pairs do you want to enter? 1\n",
            "Enter key: a\n",
            "Enter value: 2\n",
            "How many key-value pairs do you want to enter? 2\n",
            "Enter key: a\n",
            "Enter value: 5\n",
            "Enter key: b\n",
            "Enter value: 8\n",
            "{'a': 7, 'b': 8}\n"
          ]
        }
      ]
    },
    {
      "cell_type": "code",
      "source": [
        "# 33. Write a code to access a value in a nested dictionary. The function should take the dictionary and a list of\n",
        "# keys as input, and return the corresponding value. If any of the keys do not exist in the dictionary, the\n",
        "# function should return None&\n",
        "\n",
        "def get_nested_value(d, keys):\n",
        "    for key in keys:\n",
        "        if key in d:\n",
        "            d = d[key]\n",
        "        else:\n",
        "            return None\n",
        "    return d\n",
        "\n",
        "\n",
        "nested_dict = {\n",
        "    'a': {\n",
        "        'b': {\n",
        "            'c': 10,\n",
        "            'd': 20\n",
        "        },\n",
        "        'e': 30\n",
        "    },\n",
        "    'f': 40\n",
        "}\n",
        "\n",
        "keys = ['a', 'b', 'c']\n",
        "result = get_nested_value(nested_dict, keys)\n",
        "print(result)\n",
        "\n",
        "keys = ['a', 'b', 'x']\n",
        "result = get_nested_value(nested_dict, keys)\n",
        "print(result)\n"
      ],
      "metadata": {
        "colab": {
          "base_uri": "https://localhost:8080/"
        },
        "id": "2_lSNNZwa_qK",
        "outputId": "948e6c0c-c9e8-42be-bea2-4e4220a97019"
      },
      "execution_count": 58,
      "outputs": [
        {
          "output_type": "stream",
          "name": "stdout",
          "text": [
            "10\n",
            "None\n"
          ]
        }
      ]
    },
    {
      "cell_type": "code",
      "source": [
        "# 34.Write a code that takes a dictionary as input and returns a sorted version of it based on the values. You can choose whether to sort in ascending or descending order\n",
        "d1 = {}\n",
        "num_entries = int(input(\"How many key-value pairs do you want to enter? \"))\n",
        "\n",
        "for _ in range(num_entries):\n",
        "    key = input(\"Enter key: \")\n",
        "    value = int(input(\"Enter value: \"))\n",
        "    d1[key] = value\n",
        "\n",
        "order = input(\"Enter asc or desc: \").strip().lower()\n",
        "\n",
        "if order == \"asc\":\n",
        "    sorted_items = sorted(d1.items(), key=lambda item: item[1])\n",
        "elif order == \"desc\":\n",
        "    sorted_items = sorted(d1.items(), key=lambda item: item[1], reverse=True)\n",
        "else:\n",
        "    print(\"Invalid order. Sorting in ascending order by default.\")\n",
        "    sorted_items = sorted(d1.items(), key=lambda item: item[1])\n",
        "\n",
        "# Printing as a sorted list of tuples\n",
        "print(\"Sorted items:\", sorted_items)\n"
      ],
      "metadata": {
        "colab": {
          "base_uri": "https://localhost:8080/"
        },
        "id": "63FPf2-mc-jJ",
        "outputId": "9e0aac2f-f352-4b69-9d17-ce994bc2cca8"
      },
      "execution_count": 57,
      "outputs": [
        {
          "output_type": "stream",
          "name": "stdout",
          "text": [
            "How many key-value pairs do you want to enter? 2\n",
            "Enter key: a\n",
            "Enter value: 10\n",
            "Enter key: b\n",
            "Enter value: 1\n",
            "Enter asc or desc: asc\n",
            "Sorted items: [('b', 1), ('a', 10)]\n"
          ]
        }
      ]
    },
    {
      "cell_type": "code",
      "source": [
        "# 35. & Write a code that inverts a dictionary, swapping keys and values. Ensure that the inverted dictionary\n",
        "# correctly handles cases where multiple keys have the same value by storing the keys as a list in the\n",
        "# inverted dictionary\n",
        "\n",
        "\n",
        "d = {\n",
        "    'a': 10,\n",
        "    'b': 20,\n",
        "    'c': 10,\n",
        "    'd': 30,\n",
        "    'e': 20\n",
        "}\n",
        "\n",
        "invert_dict={}\n",
        "\n",
        "for key,value in d.items():\n",
        "  if value in invert_dict:\n",
        "    invert_dict[value].append(key)\n",
        "  else:\n",
        "    invert_dict[value] = [key]\n",
        "print(invert_dict)\n",
        "\n",
        ""
      ],
      "metadata": {
        "colab": {
          "base_uri": "https://localhost:8080/"
        },
        "id": "xTiyOcQ7dDuZ",
        "outputId": "d244aa33-61f8-4707-91c5-cd77e98068bc"
      },
      "execution_count": 61,
      "outputs": [
        {
          "output_type": "stream",
          "name": "stdout",
          "text": [
            "{10: ['a', 'c'], 20: ['b', 'e'], 30: ['d']}\n"
          ]
        }
      ]
    },
    {
      "cell_type": "code",
      "source": [
        "|"
      ],
      "metadata": {
        "id": "WuBfxpHoq6Lb"
      },
      "execution_count": null,
      "outputs": []
    }
  ]
}