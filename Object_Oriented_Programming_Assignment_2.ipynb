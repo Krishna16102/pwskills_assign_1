{
  "nbformat": 4,
  "nbformat_minor": 0,
  "metadata": {
    "colab": {
      "provenance": []
    },
    "kernelspec": {
      "name": "python3",
      "display_name": "Python 3"
    },
    "language_info": {
      "name": "python"
    }
  },
  "cells": [
    {
      "cell_type": "code",
      "source": [
        "# # 1.Explain the importance of Functions\n",
        "# Answer :\n",
        "# Functions improve the efficiency of the code. The use of functions enhances code reusability, reduces redundancy, and makes the structure\n",
        "# of the code more meaningful."
      ],
      "metadata": {
        "id": "bYizaLPrpJ3J"
      },
      "execution_count": null,
      "outputs": []
    },
    {
      "cell_type": "code",
      "source": [
        "# 2. Write a basic function to greet students\n",
        "def greeting():\n",
        "  print(\"Good morning students\")\n",
        "greeting()"
      ],
      "metadata": {
        "colab": {
          "base_uri": "https://localhost:8080/"
        },
        "id": "lMcFu2DrnVJm",
        "outputId": "3d811464-cc99-47a9-dbb1-3d19e3d59cec"
      },
      "execution_count": 1,
      "outputs": [
        {
          "output_type": "stream",
          "name": "stdout",
          "text": [
            "Good morning students\n"
          ]
        }
      ]
    },
    {
      "cell_type": "code",
      "source": [
        "# 3.What is the difference between print and return statements\n",
        "# Answer :\n",
        "# The print statement doesn't return any value it just print the value given to it. The return statement will return the value.\n",
        "# It mostly used in functions to return a value from that function.\n"
      ],
      "metadata": {
        "id": "yhefjamwnnwj"
      },
      "execution_count": 2,
      "outputs": []
    },
    {
      "cell_type": "code",
      "source": [
        "# # 4.What are *args and **kwargs?\n",
        "# Answer:\n",
        "\n",
        "# *args\n",
        "# the *args are types of argument that can take any number of  positional arguments and store them in a tuple and perfrom operations on them.\n",
        "\n",
        "# **kwargs\n",
        "# The **kwargs arguments are the type  of argument that takes any number of argument and store them in  dictionary and perfrom operations on them\n"
      ],
      "metadata": {
        "id": "4GrGY76ppYWq"
      },
      "execution_count": 3,
      "outputs": []
    },
    {
      "cell_type": "code",
      "source": [
        "#  5. Explain the iterator function\n",
        "#  Answer:  The iterator function takes the sequence and converts it into iterator, allowing the access to elements present in the sequence using next()\n",
        "#  function. The iterator function uses the keyword iter() to convert the sequence into iterator.\n"
      ],
      "metadata": {
        "id": "9NLrkmMcrXSi"
      },
      "execution_count": 4,
      "outputs": []
    },
    {
      "cell_type": "code",
      "source": [
        "# 6. Write a code that generates the squares of numbers from 1 to n using a generator\n",
        "def square(n):\n",
        "  for i in range(1,n+1):\n",
        "    yield i**2\n",
        "n=10\n",
        "generator = square(n)\n",
        "for i in range(n):\n",
        "  print(next(generator))\n"
      ],
      "metadata": {
        "colab": {
          "base_uri": "https://localhost:8080/"
        },
        "id": "ROkUfjAntK_6",
        "outputId": "61cf4887-42ad-4542-ed91-a223f753790a"
      },
      "execution_count": 14,
      "outputs": [
        {
          "output_type": "stream",
          "name": "stdout",
          "text": [
            "1\n",
            "4\n",
            "9\n",
            "16\n",
            "25\n",
            "36\n",
            "49\n",
            "64\n",
            "81\n",
            "100\n"
          ]
        }
      ]
    },
    {
      "cell_type": "code",
      "source": [
        "# 7.Write a code that generates palindromic numbers up to n using a generator\n",
        "\n",
        "def gen_palindromic(n):\n",
        "  for i in range(1,n+1):\n",
        "    if str(i) == str(i)[::-1]:\n",
        "      yield i\n",
        "n=100\n",
        "generator = gen_palindromic(n)\n",
        "for i in generator:\n",
        "  print(i)"
      ],
      "metadata": {
        "colab": {
          "base_uri": "https://localhost:8080/"
        },
        "id": "X9KYOR63tgWn",
        "outputId": "e7aee13a-39c5-4f1c-bde2-dc0bfc03dc8e"
      },
      "execution_count": 22,
      "outputs": [
        {
          "output_type": "stream",
          "name": "stdout",
          "text": [
            "1\n",
            "2\n",
            "3\n",
            "4\n",
            "5\n",
            "6\n",
            "7\n",
            "8\n",
            "9\n",
            "11\n",
            "22\n",
            "33\n",
            "44\n",
            "55\n",
            "66\n",
            "77\n",
            "88\n",
            "99\n"
          ]
        }
      ]
    },
    {
      "cell_type": "code",
      "source": [
        "# 8.Write a code that generates even numbers from 2 to n using a generator\n",
        "\n",
        "def even_number(n):\n",
        "  for i in range(2,n+1):\n",
        "    if i%2==0:\n",
        "      yield i\n",
        "n = 20\n",
        "generator= even_number(n)\n",
        "for i in generator:\n",
        "  print(i)"
      ],
      "metadata": {
        "colab": {
          "base_uri": "https://localhost:8080/"
        },
        "id": "I5PNqjKPvLke",
        "outputId": "98b41c27-cabb-4ab6-c331-9c28ba19d803"
      },
      "execution_count": 23,
      "outputs": [
        {
          "output_type": "stream",
          "name": "stdout",
          "text": [
            "2\n",
            "4\n",
            "6\n",
            "8\n",
            "10\n",
            "12\n",
            "14\n",
            "16\n",
            "18\n",
            "20\n"
          ]
        }
      ]
    },
    {
      "cell_type": "code",
      "source": [
        "# 9. Write a code that generates powers of two up to n using a generator\n",
        "def powers_of_two(n):\n",
        "  for i in range(n+1):\n",
        "    yield 2**i\n",
        "n= 10\n",
        "generator = powers_of_two(n)\n",
        "for i in generator:\n",
        "  print(i)"
      ],
      "metadata": {
        "colab": {
          "base_uri": "https://localhost:8080/"
        },
        "id": "iq8sG3U8wgSF",
        "outputId": "62039c17-942b-4063-e028-47b4a710759d"
      },
      "execution_count": 24,
      "outputs": [
        {
          "output_type": "stream",
          "name": "stdout",
          "text": [
            "0\n",
            "1\n",
            "4\n",
            "9\n",
            "16\n",
            "25\n",
            "36\n",
            "49\n",
            "64\n",
            "81\n",
            "100\n"
          ]
        }
      ]
    },
    {
      "cell_type": "code",
      "source": [
        "# 10.Write a code that generates prime numbers up to n using a generator\n",
        "\n",
        "def is_prime(n):\n",
        "  if n<=1:\n",
        "    return False\n",
        "  c=0\n",
        "  for i in range(2,n):\n",
        "    if n%i==0:\n",
        "      c+=1\n",
        "  return c==0\n",
        "\n",
        "def prime_numbers(n):\n",
        "  for i in range(2,n+1):\n",
        "    if is_prime(i):\n",
        "      yield i\n",
        "n =50\n",
        "generator = prime_numbers(n)\n",
        "\n",
        "for i in generator:\n",
        "  print(i)\n",
        "\n"
      ],
      "metadata": {
        "colab": {
          "base_uri": "https://localhost:8080/"
        },
        "id": "ZbSLAbnXxKtF",
        "outputId": "f4b1fef5-fddc-42d3-d0db-d8581a6b1520"
      },
      "execution_count": 27,
      "outputs": [
        {
          "output_type": "stream",
          "name": "stdout",
          "text": [
            "2\n",
            "3\n",
            "5\n",
            "7\n",
            "11\n",
            "13\n",
            "17\n",
            "19\n",
            "23\n",
            "29\n",
            "31\n",
            "37\n",
            "41\n",
            "43\n",
            "47\n"
          ]
        }
      ]
    },
    {
      "cell_type": "code",
      "source": [
        "# 11.Write a code that uses a lambda function to calculate the sum of two numbers\n",
        "\n",
        "x =10\n",
        "y=20\n",
        "sum = lambda x,y : x+y\n",
        "print(sum(x,y))"
      ],
      "metadata": {
        "colab": {
          "base_uri": "https://localhost:8080/"
        },
        "id": "Ou_K8y9KyW1V",
        "outputId": "cdb35958-dd08-40b7-c884-3e50caa54aa1"
      },
      "execution_count": 30,
      "outputs": [
        {
          "output_type": "stream",
          "name": "stdout",
          "text": [
            "30\n"
          ]
        }
      ]
    },
    {
      "cell_type": "code",
      "source": [
        "# 12. Write a code that uses a lambda function to calculate the square of a given number\n",
        "x =10\n",
        "square = lambda y:y**2\n",
        "print(square(x))"
      ],
      "metadata": {
        "colab": {
          "base_uri": "https://localhost:8080/"
        },
        "id": "3f2wpIZk0DCU",
        "outputId": "575c2569-a8f9-4609-9cf6-dfec713c9289"
      },
      "execution_count": 31,
      "outputs": [
        {
          "output_type": "stream",
          "name": "stdout",
          "text": [
            "100\n"
          ]
        }
      ]
    },
    {
      "cell_type": "code",
      "source": [
        "# 13. Write a code that uses a lambda function to check whether a given number is even or odd\n",
        "n =100\n",
        "even_odd =lambda x : 0 if x%2==0 else 1\n",
        "if even_odd(n) ==0:\n",
        "  print(\"Even Number\")\n",
        "else:\n",
        "  print(\"Odd Number\")\n"
      ],
      "metadata": {
        "colab": {
          "base_uri": "https://localhost:8080/"
        },
        "id": "slmNr4cv0gwd",
        "outputId": "0eb6c369-ce74-42a8-bf3a-83ed3361af95"
      },
      "execution_count": 39,
      "outputs": [
        {
          "output_type": "stream",
          "name": "stdout",
          "text": [
            "Even Number\n"
          ]
        }
      ]
    },
    {
      "cell_type": "code",
      "source": [
        "# 15. Write a code that uses a lambda function to concatenate two strings\n",
        "concat= lambda s1,s2:s1+s2\n",
        "s1=\"Happy \"\n",
        "s2=\"Birthday\"\n",
        "print(concat(s1,s2))"
      ],
      "metadata": {
        "colab": {
          "base_uri": "https://localhost:8080/"
        },
        "id": "RHdN4CsT1psz",
        "outputId": "9e8071d4-6d44-40d5-ea5d-4a50c12a5a90"
      },
      "execution_count": 40,
      "outputs": [
        {
          "output_type": "stream",
          "name": "stdout",
          "text": [
            "Happy Birthday\n"
          ]
        }
      ]
    },
    {
      "cell_type": "code",
      "source": [
        "#16. Write a code that uses a lambda function to find the maximum of three given numbers\n",
        "max_num = lambda x,y,z : x if (x >y and  x >z ) else ( y if y>  z else z)\n",
        "\n",
        "a,b,c= 100,222,2457\n",
        "\n",
        "print(\"The maximum number :\",max_num(a,b,c))"
      ],
      "metadata": {
        "colab": {
          "base_uri": "https://localhost:8080/"
        },
        "id": "0CdSV9LY3Dbb",
        "outputId": "f096b52f-5373-4ba9-e720-e6107bbed099"
      },
      "execution_count": 60,
      "outputs": [
        {
          "output_type": "stream",
          "name": "stdout",
          "text": [
            "The maximum number : 2457\n"
          ]
        }
      ]
    },
    {
      "cell_type": "code",
      "source": [
        "#17. Write a code that generates the squares of even numbers from a given list\n",
        "num=[1,12,45,325,13,24,78,134,7761,11,0,7]\n",
        "even_numbers = filter(lambda x : x%2==0 ,num)\n",
        "squares= map(lambda x:x**2,even_numbers)\n",
        "for i in squares:\n",
        "  print(i)"
      ],
      "metadata": {
        "colab": {
          "base_uri": "https://localhost:8080/"
        },
        "id": "KGkoph8R367z",
        "outputId": "e30c97f7-5a6b-41c8-caa0-22bb01b068f5"
      },
      "execution_count": 45,
      "outputs": [
        {
          "output_type": "stream",
          "name": "stdout",
          "text": [
            "144\n",
            "576\n",
            "6084\n",
            "17956\n",
            "0\n"
          ]
        }
      ]
    },
    {
      "cell_type": "code",
      "source": [
        "# 18. Write a code that calculates the product of positive numbers from a given list\n",
        "from functools import reduce\n",
        "num = [12, -5, 8, -3, 7, -2, 15, -9, 6, -1]\n",
        "\n",
        "positive_numbers = filter(lambda x : x>0,num)\n",
        "product = reduce(lambda x,y:x*y,positive_numbers)\n",
        "print(\"The product of positive numbers is :\",product)"
      ],
      "metadata": {
        "colab": {
          "base_uri": "https://localhost:8080/"
        },
        "id": "SqrUVKVL4zBq",
        "outputId": "bca99d9a-c234-480b-c7f5-14065e16e440"
      },
      "execution_count": 46,
      "outputs": [
        {
          "output_type": "stream",
          "name": "stdout",
          "text": [
            "The product of positive numbers is : 60480\n"
          ]
        }
      ]
    },
    {
      "cell_type": "code",
      "source": [
        "# 19. Write a code that doubles the values of odd numbers from a given list\n",
        "num = [12, 7, 8, 5, 20, 11, 4, 9, 16, 3]\n",
        "odd_numbers = filter(lambda x:x%2==1,num)\n",
        "double_values = map(lambda x:x*2 ,odd_numbers)\n",
        "for i in double_values:\n",
        "  print(i)\n"
      ],
      "metadata": {
        "colab": {
          "base_uri": "https://localhost:8080/"
        },
        "id": "GixLA3Bj52TB",
        "outputId": "b3cb58a5-b536-46ef-b678-edd791142fc0"
      },
      "execution_count": 47,
      "outputs": [
        {
          "output_type": "stream",
          "name": "stdout",
          "text": [
            "14\n",
            "10\n",
            "22\n",
            "18\n",
            "6\n"
          ]
        }
      ]
    },
    {
      "cell_type": "code",
      "source": [
        "# 20. Write a code that calculates the sum of cubes of numbers from a given list\n",
        "from functools import reduce\n",
        "num = [1, 3, 5, 7, 9]\n",
        "cube_numbers = map(lambda x:x**3,num)\n",
        "sum_of_cube_numbers=reduce(lambda x,y:x+y,cube_numbers)\n",
        "print(sum_of_cube_numbers)\n"
      ],
      "metadata": {
        "colab": {
          "base_uri": "https://localhost:8080/"
        },
        "id": "OoLo-LZ-6rPp",
        "outputId": "dd3e0b81-3f4b-4efb-ef3d-4683d36352ea"
      },
      "execution_count": 49,
      "outputs": [
        {
          "output_type": "stream",
          "name": "stdout",
          "text": [
            "1225\n"
          ]
        }
      ]
    },
    {
      "cell_type": "code",
      "source": [
        "# 21.  Write a code that filters out prime numbers from a given list\n",
        "def is_prime(n):\n",
        "  if n<=1:\n",
        "    return False\n",
        "  c=0\n",
        "  for i in range(2,n):\n",
        "    if n%i==0:\n",
        "      c+=1\n",
        "  return c==0\n",
        "num = list(range(101))\n",
        "prime_numbers = filter(lambda x: is_prime(x),num)\n",
        "for i in prime_numbers:\n",
        "  print(i,end =\" \")"
      ],
      "metadata": {
        "colab": {
          "base_uri": "https://localhost:8080/"
        },
        "id": "yC0RpMsT7aoR",
        "outputId": "6bf9f81a-c9c8-408a-bf3b-deb9bef8a8fe"
      },
      "execution_count": 53,
      "outputs": [
        {
          "output_type": "stream",
          "name": "stdout",
          "text": [
            "2 3 5 7 11 13 17 19 23 29 31 37 41 43 47 53 59 61 67 71 73 79 83 89 97 "
          ]
        }
      ]
    },
    {
      "cell_type": "code",
      "source": [
        "# 22. Write a code that uses a lambda function to calculate the sum of two numbers\n",
        "x =102\n",
        "y=205\n",
        "sum = lambda x,y : x+y\n",
        "print(sum(x,y))"
      ],
      "metadata": {
        "colab": {
          "base_uri": "https://localhost:8080/"
        },
        "id": "Z7kkWec0CBl3",
        "outputId": "2dca3807-f5b7-48c8-c970-37a032b48733"
      },
      "execution_count": 54,
      "outputs": [
        {
          "output_type": "stream",
          "name": "stdout",
          "text": [
            "307\n"
          ]
        }
      ]
    },
    {
      "cell_type": "code",
      "source": [
        "# 23.Write a code that uses a lambda function to calculate the square of a given number\n",
        "x =12\n",
        "square = lambda y:y**2\n",
        "print(square(x))"
      ],
      "metadata": {
        "colab": {
          "base_uri": "https://localhost:8080/"
        },
        "id": "d44HaSkGC4Ju",
        "outputId": "8d7f4d70-0643-4e1a-c416-7fbcc580e592"
      },
      "execution_count": 55,
      "outputs": [
        {
          "output_type": "stream",
          "name": "stdout",
          "text": [
            "144\n"
          ]
        }
      ]
    },
    {
      "cell_type": "code",
      "source": [
        "# 24. Write a code that uses a lambda function to check whether a given number is even or odd\n",
        "n =1003\n",
        "even_odd =lambda x : 0 if x%2==0 else 1\n",
        "if even_odd(n) ==0:\n",
        "  print(\"Even Number\")\n",
        "else:\n",
        "  print(\"Odd Number\")\n"
      ],
      "metadata": {
        "colab": {
          "base_uri": "https://localhost:8080/"
        },
        "id": "QP1ZbZfoDJOf",
        "outputId": "d34baa68-7ad7-40fb-9c8c-c28787071621"
      },
      "execution_count": 56,
      "outputs": [
        {
          "output_type": "stream",
          "name": "stdout",
          "text": [
            "Odd Number\n"
          ]
        }
      ]
    },
    {
      "cell_type": "code",
      "source": [
        "# 25.Write a code that uses a lambda function to concatenate two strings\n",
        "s1=\"Happy New \"\n",
        "s2=\"Year\"\n",
        "concat= lambda s1,s2:s1+s2\n",
        "print(concat(s1,s2))\n"
      ],
      "metadata": {
        "colab": {
          "base_uri": "https://localhost:8080/"
        },
        "id": "f6DLvrl4DUXt",
        "outputId": "5158d1ba-6f7b-40c8-cb62-836a48c2d255"
      },
      "execution_count": 59,
      "outputs": [
        {
          "output_type": "stream",
          "name": "stdout",
          "text": [
            "Happy New Year\n"
          ]
        }
      ]
    },
    {
      "cell_type": "code",
      "source": [
        "# 26.Write a code that uses a lambda function to find the maximum of three given numbers\n",
        "max_num = lambda x,y,z : x if (x >y and  x >z ) else ( y if y>  z else z)\n",
        "\n",
        "a,b,c= 9,56,5\n",
        "\n",
        "print(\"The maximum number :\",max_num(a,b,c))"
      ],
      "metadata": {
        "colab": {
          "base_uri": "https://localhost:8080/"
        },
        "id": "3KFdy3EfDaeu",
        "outputId": "a07dbcc9-421e-41f7-fbaf-aa2c4fd224bd"
      },
      "execution_count": 62,
      "outputs": [
        {
          "output_type": "stream",
          "name": "stdout",
          "text": [
            "The maximum number : 56\n"
          ]
        }
      ]
    },
    {
      "cell_type": "code",
      "source": [
        "#  27. What is encapsulation in OOP?\n",
        "# Encapsulation in Object-Oriented Programming is defined as wrapping up of data in single unit which is called as class.\n",
        "# It is also involves restricting the access of attributes and methods with the help of access modifiers."
      ],
      "metadata": {
        "id": "1WZXifP_EDO2"
      },
      "execution_count": 63,
      "outputs": []
    },
    {
      "cell_type": "code",
      "source": [
        "# 28.Explain the use of access modifiers in Python classes\n",
        "# Access modifiers are used to restrict access to attributes and methods of a class. They define the visibility and accessibility of the class's\n",
        "# attributes and methods, either from within the class or from outside the class. There are three types of access modifiers:\n",
        "\n",
        "# Public: The public access modifier allows attributes and methods to be accessed from anywhere, both inside and outside the class.\n",
        "\n",
        "# Private: The private access modifier restricts access to attributes and methods, allowing them to be accessed only from within the class itself.\n",
        "\n",
        "# Protected: The protected access modifier allows attributes and methods to be accessed within the class and by subclasses that inherit from that class"
      ],
      "metadata": {
        "id": "GRnKEcwEGPH9"
      },
      "execution_count": 67,
      "outputs": []
    },
    {
      "cell_type": "code",
      "source": [
        "#29. What is inheritance in OOP\n",
        "# Inheritance in OOP is the process by which a child class inherits the data present in the parent class. There are different types of inheritance:\n",
        "\n",
        "# Single Inheritance: The child class inherits data variables from a single parent class.\n",
        "\n",
        "# Multiple Inheritance: The child class inherits data variables from multiple parent classes.\n",
        "\n",
        "# Multilevel Inheritance: The child class inherits data variables from a single parent class, and then another class inherits data from the child class.\n",
        "#                        It forms a chain like: grandparent class → parent class → child class.\n",
        "\n",
        "# Hierarchical Inheritance: Many child classes inherit data from a single parent class.\n",
        "\n",
        "# Hybrid Inheritance: Hybrid inheritance is a combination of multiple types of inheritance, such as multiple inheritance, multilevel inheritance, and\n",
        "#                     hierarchical inheritance."
      ],
      "metadata": {
        "id": "yFpZUkZNGUMM"
      },
      "execution_count": 69,
      "outputs": []
    },
    {
      "cell_type": "code",
      "source": [
        "# 30.Define polymorphism in OOP\n",
        "#  Polymorphism in OOP is the ability of an object to take on multiple forms. It allows methods to behave differently based on the object that is\n",
        "#  calling them. Polymorphism can be achieved through:\n",
        "\n",
        "# Method Overloading: Same method name with different arguments (compile-time polymorphism).\n",
        "# Method Overriding: A subclass provides its own implementation of a method defined in the parent class (runtime polymorphism)."
      ],
      "metadata": {
        "id": "sCkG0nQYLp4k"
      },
      "execution_count": 70,
      "outputs": []
    },
    {
      "cell_type": "code",
      "source": [
        "#  31.  Explain method overriding in Python\n",
        "# Method overriding in Python is a feature that allows a subclass to provide a specific implementation of a method that is already defined in its parent\n",
        "# class. When a method in the child class has the same name, signature, and parameters as a method in the parent class, the child class\n",
        "# method overrides the parent class method."
      ],
      "metadata": {
        "id": "oVZCeN88ME-a"
      },
      "execution_count": 1,
      "outputs": []
    },
    {
      "cell_type": "code",
      "source": [
        "# 32.Define a parent class Animal with a method make_sound that prints \"Generic animal sound\". Create a child class Dog inheriting\n",
        "# from Animal with a method make_sound that prints \"Woof!\"\n",
        "class Animal:\n",
        "  def make_sound(self):\n",
        "    print(\"Generic animal sound\")\n",
        "class Dog(Animal):\n",
        "  def make_sound(self):\n",
        "    print(\"Woof!\")\n",
        "sound = Dog()\n",
        "sound.make_sound()"
      ],
      "metadata": {
        "colab": {
          "base_uri": "https://localhost:8080/"
        },
        "id": "02tIq4x8e1OB",
        "outputId": "a3b17875-d864-4bff-f84b-a93c5d68ddf7"
      },
      "execution_count": 6,
      "outputs": [
        {
          "output_type": "stream",
          "name": "stdout",
          "text": [
            "Woof!\n"
          ]
        }
      ]
    },
    {
      "cell_type": "code",
      "source": [
        "# 33.Define a method move in the Animal class that prints \"Animal moves\". Override the move method in the Dog class to print \"Dog runs\"\n",
        "class Animal:\n",
        "  def move(self):\n",
        "    print(\"Animal moves\")\n",
        "class Dog(Animal):\n",
        "  def move(self):\n",
        "    print(\"Dog runs\")\n",
        "m = Animal()\n",
        "m.move()\n",
        "\n",
        "b= Dog()\n",
        "b.move()\n"
      ],
      "metadata": {
        "colab": {
          "base_uri": "https://localhost:8080/"
        },
        "id": "yA1ycuy4fgp5",
        "outputId": "2a69a475-7ce4-468e-e51a-1a6139b5c0d5"
      },
      "execution_count": 7,
      "outputs": [
        {
          "output_type": "stream",
          "name": "stdout",
          "text": [
            "Animal moves\n",
            "Dog runs\n"
          ]
        }
      ]
    },
    {
      "cell_type": "code",
      "source": [
        "# 34.Create a class Mammal with a method reproduce that prints \"Giving birth to live young.\" Create a class DogMammal inheriting from both Dog and Mammal\n",
        "class Mammal:\n",
        "  def reproduce(self):\n",
        "    print(\"Giving birth to live young.\")\n",
        "class Dog:\n",
        "  def move(self):\n",
        "    print(\"Dog is moving\")\n",
        "class DogMammal(Mammal,Dog):\n",
        "  def run(self):\n",
        "    print(\"Dog Mammal is running\")\n",
        "obj = DogMammal()\n",
        "obj.run()\n",
        "obj.reproduce()\n",
        "obj.move()"
      ],
      "metadata": {
        "colab": {
          "base_uri": "https://localhost:8080/"
        },
        "id": "elt62hO9g1Ew",
        "outputId": "477787cc-2d4c-4eb2-fe5d-447a563a43bf"
      },
      "execution_count": 8,
      "outputs": [
        {
          "output_type": "stream",
          "name": "stdout",
          "text": [
            "Dog Mammal is running\n",
            "Giving birth to live young.\n",
            "Dog is moving\n"
          ]
        }
      ]
    },
    {
      "cell_type": "code",
      "source": [
        "# 35.  Create a class GermanShepherd inheriting from Dog and override the make_sound method to print \"Bark!8\"\n",
        "class Dog:\n",
        "  def make_sound(self):\n",
        "    print(\"Bark!8 from class Dog\")\n",
        "class GermanShepherd(Dog):\n",
        "  def make_sound(self):\n",
        "    print(\"Bark!8\")\n",
        "obj_dog= Dog()\n",
        "obj_gs= GermanShepherd()\n",
        "\n",
        "obj_dog.make_sound()\n",
        "obj_gs.make_sound()"
      ],
      "metadata": {
        "colab": {
          "base_uri": "https://localhost:8080/"
        },
        "id": "DDut53Geh-U3",
        "outputId": "54309efd-873c-402b-b73e-56f87ef44fb2"
      },
      "execution_count": 10,
      "outputs": [
        {
          "output_type": "stream",
          "name": "stdout",
          "text": [
            "Bark!8 from class Dog\n",
            "Bark!8\n"
          ]
        }
      ]
    },
    {
      "cell_type": "code",
      "source": [
        "# 36. Define constructors in both the Animal and Dog classes with different initialization parameters\n",
        "\n",
        "class Animal:\n",
        "  def __init__(self,name,age):\n",
        "    self.name=name\n",
        "    self.age=age\n",
        "    print(f\"Name :{self.name} and age is {self.age}\")\n",
        "class Dog(Animal):\n",
        "  def __init__(self,name,age,breed):\n",
        "    super().__init__(name,age)\n",
        "    self.breed=breed\n",
        "    print(f\"Name :{self.name} , age : {self.age} and breed : {self.breed}\")\n",
        "obj = Dog(\"Puppy\",18,\"dubar\")\n",
        "\n"
      ],
      "metadata": {
        "colab": {
          "base_uri": "https://localhost:8080/"
        },
        "id": "kJXBcbEFjAo3",
        "outputId": "c7361af9-c1c3-40b9-e5ef-50066fcfae1d"
      },
      "execution_count": 15,
      "outputs": [
        {
          "output_type": "stream",
          "name": "stdout",
          "text": [
            "Name :Puppy and age is 18\n",
            "Name :Puppy , age : 18 and breed : dubar\n"
          ]
        }
      ]
    },
    {
      "cell_type": "code",
      "source": [
        "# 37.What is abstraction in Python? How is it implemented\n",
        "# Abstraction in Python is the concept of hiding the complex implementation details of a system and showing only the essential features to the user.\n",
        "# It allows you to focus on high-level functionalities without worrying about low-level details.\n",
        "\n",
        "# How it is implemented:\n",
        "# Abstract Classes: Python provides the abc module (Abstract Base Class) to define abstract classes. An abstract class can have abstract methods,\n",
        "#                   which are methods that are declared but not yet implemented. Subclasses are required to implement these methods.\n",
        "\n",
        "# Abstract Methods: An abstract method is a method that is declared in an abstract class but doesn't have any functionality. Subclasses must provide\n",
        "#                   their own implementation of these methods."
      ],
      "metadata": {
        "id": "W28Cn8TykoUG"
      },
      "execution_count": 18,
      "outputs": []
    },
    {
      "cell_type": "code",
      "source": [
        "# 38. Explain the importance of abstraction in object-oriented programming\n",
        "# Abstraction in Python (or OOP) means hiding the complex details and showing only the essential features. It simplifies things so you don’t\n",
        "# have to worry about how everything works inside, just how to use it.\n",
        "# Simplicity: It makes things easier by showing only what’s necessary.\n",
        "# Less Complexity: You don't need to deal with unnecessary details.\n",
        "# Better Code: Code is cleaner and easier to maintain.\n",
        "# Security: It can protect data by hiding some parts."
      ],
      "metadata": {
        "id": "Zm1Sves1mUCm"
      },
      "execution_count": 19,
      "outputs": []
    },
    {
      "cell_type": "code",
      "source": [
        "# 39. How are abstract methods different from regular methods in Python\n",
        "# Abstract methods don’t have an implementation in the base class (parent class). They only have a definition and must be implemented in a\n",
        "# subclass (child class).\n",
        "\n",
        "# Regular methods are fully implemented in the class where they are defined."
      ],
      "metadata": {
        "id": "HAZXVT0HnLfV"
      },
      "execution_count": 20,
      "outputs": []
    },
    {
      "cell_type": "code",
      "source": [
        "# 40. How can you achieve abstraction using interfaces in Python\n",
        "# In Python, abstraction using interfaces can be achieved with abstract base classes (ABC).\n",
        "# An interface is a blueprint for classes that define a set of methods, but without implementing them."
      ],
      "metadata": {
        "id": "SyDC_p2ZnhNF"
      },
      "execution_count": 21,
      "outputs": []
    },
    {
      "cell_type": "code",
      "source": [
        "# 41. Can you provide an example of how abstraction can be utilized to create a common interface for a group of related classes in Python\n",
        "from abc import ABC,abstractmethod\n",
        "\n",
        "class Animal(ABC):\n",
        "  @abstractmethod\n",
        "  def move(self):\n",
        "    pass\n",
        "  @abstractmethod\n",
        "  def sound(self):\n",
        "    pass\n",
        "\n",
        "\n",
        "class Cat(Animal):\n",
        "  def move(self):\n",
        "    print(\"Cat moves\")\n",
        "  def sound(self):\n",
        "    print(\"meow\")\n",
        "\n",
        "\n",
        "class Dog(Animal):\n",
        "  def move(self):\n",
        "    print(\"Dog moves\")\n",
        "  def sound(self):\n",
        "    print(\"Woof!\")\n",
        "\n",
        "c=Cat()\n",
        "c.move()\n",
        "c.sound()\n",
        "\n",
        "d=Dog()\n",
        "d.move()\n",
        "d.sound()\n"
      ],
      "metadata": {
        "colab": {
          "base_uri": "https://localhost:8080/"
        },
        "id": "gzfkQfNfpGKs",
        "outputId": "75bc246a-474d-4674-9b3e-5dfdc5944433"
      },
      "execution_count": 23,
      "outputs": [
        {
          "output_type": "stream",
          "name": "stdout",
          "text": [
            "Cat moves\n",
            "meow\n",
            "Dog moves\n",
            "Woof!\n"
          ]
        }
      ]
    },
    {
      "cell_type": "code",
      "source": [
        "# 42.How does Python achieve polymorphism through method overriding\n",
        "\n",
        "class Vehicle:\n",
        "  def __init__(self,type=\"\",price=0):\n",
        "    self.type=type\n",
        "    self.price=price\n",
        "  def details(self):\n",
        "    print(f\"The type of vehicle : {self.type} , price : {self.price}\")\n",
        "\n",
        "class Car(Vehicle):\n",
        "  def __init__(self,type=\"\",price=0,company=\"\"):\n",
        "    self.type=type\n",
        "    self.price=price\n",
        "    self.company=company\n",
        "  def details(self):\n",
        "    print(f\"The type of vehicle : {self.type} , price : {self.price} ,company :{self.company}\")\n",
        "obj1= Vehicle(\"Generic vehicle\",5670000000000)\n",
        "obj1.details()\n",
        "obj2 = Car(\"car\",220000000000,\"BMW\")\n",
        "obj2.details()\n",
        "# The details method is overridden in the Car class to include additional information specific to cars."
      ],
      "metadata": {
        "colab": {
          "base_uri": "https://localhost:8080/"
        },
        "id": "RUgjL8-rr-lD",
        "outputId": "11318938-cc9c-4e0d-b7aa-d4dd0388a36d"
      },
      "execution_count": 31,
      "outputs": [
        {
          "output_type": "stream",
          "name": "stdout",
          "text": [
            "The type of vehicle : Generic vehicle , price : 5670000000000\n",
            "The type of vehicle : car , price : 220000000000 ,company :BMW\n"
          ]
        }
      ]
    },
    {
      "cell_type": "code",
      "source": [
        "# 43. Define a base class with a method and a subclass that overrides the method\n",
        "class Dog:\n",
        "  def make_sound(self):\n",
        "    print(\"Bark!8 from class Dog\")\n",
        "class GermanShepherd(Dog):\n",
        "  def make_sound(self):\n",
        "    print(\"Bark!8\")\n",
        "obj_dog= Dog()\n",
        "obj_gs= GermanShepherd()\n",
        "\n",
        "obj_dog.make_sound()\n",
        "obj_gs.make_sound()\n"
      ],
      "metadata": {
        "colab": {
          "base_uri": "https://localhost:8080/"
        },
        "id": "I2NRi8iptx8a",
        "outputId": "a6b87f20-a669-41ff-c301-1142fa0b7ace"
      },
      "execution_count": 32,
      "outputs": [
        {
          "output_type": "stream",
          "name": "stdout",
          "text": [
            "Bark!8 from class Dog\n",
            "Bark!8\n"
          ]
        }
      ]
    },
    {
      "cell_type": "code",
      "source": [
        "# 44.  Define a base class and multiple subclasses with overridden methods\n",
        "\n",
        "class Animal():\n",
        "  def move(self):\n",
        "    print(\"Animal moves\")\n",
        "  def sound(self):\n",
        "    print(\"Animal sounds\")\n",
        "\n",
        "class Cat(Animal):\n",
        "  def move(self):\n",
        "    print(\"Cat moves\")\n",
        "  def sound(self):\n",
        "    print(\"meow\")\n",
        "\n",
        "class Dog(Animal):\n",
        "  def move(self):\n",
        "    print(\"Dog moves\")\n",
        "  def sound(self):\n",
        "    print(\"Woof!\")\n",
        "\n",
        "class Lion(Animal):\n",
        "  def move(self):\n",
        "    print(\"Lion moves\")\n",
        "  def sound(self):\n",
        "    print(\"Lion roars\")\n",
        "\n",
        "c=Cat()\n",
        "c.move()\n",
        "c.sound()\n",
        "\n",
        "d=Dog()\n",
        "d.move()\n",
        "d.sound()\n",
        "\n",
        "l= Lion()\n",
        "l.move()\n",
        "l.sound()"
      ],
      "metadata": {
        "colab": {
          "base_uri": "https://localhost:8080/"
        },
        "id": "INRmTgk3uvqS",
        "outputId": "cac47830-ba9d-45cf-9b6b-b01f252f53be"
      },
      "execution_count": 33,
      "outputs": [
        {
          "output_type": "stream",
          "name": "stdout",
          "text": [
            "Cat moves\n",
            "meow\n",
            "Dog moves\n",
            "Woof!\n",
            "Lion moves\n",
            "Lion roars\n"
          ]
        }
      ]
    },
    {
      "cell_type": "code",
      "source": [
        "# 45. How does polymorphism improve code readability and reusability\n",
        "# Polymorphism improves code readability and reusability by:\n",
        "\n",
        "# Allowing the same method to perform different behaviors based on the object it is called on.\n",
        "# Reducing code duplication by reusing a single method name across multiple classes.\n",
        "# Simplifying maintenance, as new classes can be added without modifying existing code.\n",
        "# Enhancing flexibility by enabling interchangeable use of objects with a common interface."
      ],
      "metadata": {
        "id": "rEiiEK0Kx7XI"
      },
      "execution_count": 34,
      "outputs": []
    },
    {
      "cell_type": "code",
      "source": [
        " # 46.  Describe how Python supports polymorphism with duck typing\n",
        "# Python supports polymorphism through duck typing, which means that the type of an object is determined by its behavior (methods and attributes) rather\n",
        "# than its explicit class.\n",
        "\n",
        "# In Python, if an object implements the expected methods, it can be used in place of another object, regardless of its class.\n",
        "# This allows for greater flexibility and makes code more reusable.\n",
        "\n",
        "class Dog:\n",
        "  def sound(self):\n",
        "    return \"Woof\"\n",
        "class Cat:\n",
        "  def sound(self):\n",
        "    return \"Meow\"\n",
        "\n",
        "def animal_sound(animal):\n",
        "  print(animal.sound())\n",
        "d=Dog()\n",
        "c=Cat()\n",
        "\n",
        "animal_sound(d)\n",
        "animal_sound(c)"
      ],
      "metadata": {
        "colab": {
          "base_uri": "https://localhost:8080/"
        },
        "id": "qAArvpBKyinR",
        "outputId": "dcf38a3a-317e-4ae6-dda6-50f58e9d1ac8"
      },
      "execution_count": 40,
      "outputs": [
        {
          "output_type": "stream",
          "name": "stdout",
          "text": [
            "Woof\n",
            "Meow\n"
          ]
        }
      ]
    },
    {
      "cell_type": "code",
      "source": [
        "# 47. How do you achieve encapsulation in Python\n",
        "# Encapsulation in Python is a key concept in Object-Oriented Programming (OOP) where we bundle the data (attributes) and methods (functions)\n",
        "# that operate on that data into a single unit or class. It helps restrict direct access to the object's internal state, making the class more secure\n",
        "# and controlled.\n",
        "\n",
        "# Python achieves encapsulation using:\n",
        "\n",
        "# Public attributes (accessible from anywhere),\n",
        "# Protected attributes (indicated by a single underscore, meant for internal use),\n",
        "# Private attributes (indicated by double underscores, making it harder to access directly).\n",
        "# Encapsulation allows controlled access through getter and setter methods, ensuring that the object's internal state can only be modified\n",
        "# in a safe way. This helps improve the code's readability, maintainability, and security."
      ],
      "metadata": {
        "id": "vLp1tQRey-nY"
      },
      "execution_count": 41,
      "outputs": []
    },
    {
      "cell_type": "code",
      "source": [
        "# 48. Can encapsulation be bypassed in Python? If so, how\n",
        "# Yes, encapsulation can be bypassed in Python\n",
        "# Python relies on naming conventions rather than access control mechanisms.\n",
        "# Public Attributes: These can be accessed directly.\n",
        "# Protected Attributes: These are prefixed with a single underscore (e.g., _variable). Although it's meant to indicate that it should be used\n",
        "# internally, it's still accessible from outside the class.\n",
        "# Private Attributes: These are prefixed with double underscores (e.g., __variable). Python performs name mangling to prevent direct access,\n",
        "# so the variable gets changed internally to something like _ClassName__variable. This can still be accessed, but it requires knowing the exact name."
      ],
      "metadata": {
        "id": "iL3K23WJ1Qdw"
      },
      "execution_count": 4,
      "outputs": []
    },
    {
      "cell_type": "code",
      "source": [
        "# 49. Implement a class BankAccount with a private balance attribute. Include methods to deposit, withdraw, and check the balance\n",
        "class BankAccount:\n",
        "  def __init__(self,balance):\n",
        "    self.__balance=balance\n",
        "  def deposit(self,new_amount):\n",
        "    self.__balance+=new_amount\n",
        "  def withdraw(self,amount):\n",
        "    self.__balance-=amount\n",
        "  def check_balance(self):\n",
        "    return self.__balance\n",
        "bank=BankAccount(1000)\n",
        "bank.deposit(2000)\n",
        "bank.check_balance()\n",
        "bank.withdraw(500)\n",
        "bank.check_balance()\n",
        "\n",
        "\n",
        ""
      ],
      "metadata": {
        "colab": {
          "base_uri": "https://localhost:8080/"
        },
        "id": "SenF1fBEmze6",
        "outputId": "5be12d92-8f8c-422e-aeff-a6a046f7e24f"
      },
      "execution_count": 12,
      "outputs": [
        {
          "output_type": "execute_result",
          "data": {
            "text/plain": [
              "2500"
            ]
          },
          "metadata": {},
          "execution_count": 12
        }
      ]
    },
    {
      "cell_type": "code",
      "source": [
        "# 50. Develop a Person class with private attributes name and email, and methods to set and get the email\n",
        "\n",
        "class  Person:\n",
        "  def __init__(self,name,email):\n",
        "    self.__name =name\n",
        "    self.__email=email\n",
        "\n",
        "  def set_email(self,new_email):\n",
        "    self.__email=new_email\n",
        "  def get_email(self):\n",
        "    return self.__email\n",
        "person=Person(\"krish\",\"1@gmail.com\")\n",
        "person.get_email()\n",
        "person.set_email(\"2@gmail.com\")\n",
        "person.get_email()\n"
      ],
      "metadata": {
        "colab": {
          "base_uri": "https://localhost:8080/",
          "height": 35
        },
        "id": "c9x5OqEfoCHZ",
        "outputId": "4462cf59-0256-4d6e-abc8-c65b423a8f65"
      },
      "execution_count": 16,
      "outputs": [
        {
          "output_type": "execute_result",
          "data": {
            "text/plain": [
              "'2@gmail.com'"
            ],
            "application/vnd.google.colaboratory.intrinsic+json": {
              "type": "string"
            }
          },
          "metadata": {},
          "execution_count": 16
        }
      ]
    },
    {
      "cell_type": "code",
      "source": [
        "# 51. Why is encapsulation considered a pillar of object-oriented programming (OOP)?\n",
        "# Encapsulation is considered a pillar of object-oriented programming (OOP) because:\n",
        "\n",
        "# Data Hiding: It hides the internal state of an object, allowing control over how data is accessed or modified.\n",
        "\n",
        "# Security: It protects an object from unwanted interference and misuse by restricting direct access to its attributes.\n",
        "\n",
        "# Modularity: It keeps related data and methods together, making the code easier to maintain and manage.\n",
        "\n",
        "# Abstraction: It allows exposing only necessary details, simplifying the interface and enhancing code readability.\n",
        "\n",
        "# Controlled Access: It provides methods (getters/setters) to access or modify data safely and consistently."
      ],
      "metadata": {
        "id": "6rCOLpUopXuZ"
      },
      "execution_count": 17,
      "outputs": []
    },
    {
      "cell_type": "code",
      "source": [
        "# 52. Create a decorator in Python that adds functionality to a simple function by printing a message before and after the function execution\n",
        "def first(function):\n",
        "  def wrapper():\n",
        "    print(\"Statement before the function execution\")\n",
        "    function()\n",
        "    print(\"Statement after the function execution\")\n",
        "  return wrapper\n",
        "@first\n",
        "def simple_function():\n",
        "  print(\"This function is about the decorators\")\n",
        "\n",
        "simple_function()"
      ],
      "metadata": {
        "colab": {
          "base_uri": "https://localhost:8080/"
        },
        "id": "uVMAQCajqNdJ",
        "outputId": "2080808b-c972-41eb-e2cb-4ae52aa515ee"
      },
      "execution_count": 19,
      "outputs": [
        {
          "output_type": "stream",
          "name": "stdout",
          "text": [
            "Statement before the function execution\n",
            "This function is about the decorators\n",
            "Statement after the function execution\n"
          ]
        }
      ]
    },
    {
      "cell_type": "code",
      "source": [
        "# 53. Modify the decorator to accept arguments and print the function name along with the message\n",
        "\n",
        "def first(function):\n",
        "  def wrapper(arg):\n",
        "    print(f\"Statement before the function {function.__name__} execution with message {arg}\")\n",
        "    function(arg)\n",
        "    print(f\"Statement after the function {function.__name__} execution with message {arg}\")\n",
        "  return wrapper\n",
        "@first\n",
        "def greetings(message):\n",
        "  print(message)\n",
        "\n",
        "greetings(\"Happy Birthday\")"
      ],
      "metadata": {
        "colab": {
          "base_uri": "https://localhost:8080/"
        },
        "id": "6b1GZsuMrWXA",
        "outputId": "b7421f19-8392-4033-ee72-41501e7d3020"
      },
      "execution_count": 22,
      "outputs": [
        {
          "output_type": "stream",
          "name": "stdout",
          "text": [
            "Statement before the function greetings execution with message Happy Birthday\n",
            "Happy Birthday\n",
            "Statement after the function greetings execution with message Happy Birthday\n"
          ]
        }
      ]
    },
    {
      "cell_type": "code",
      "source": [
        "# 54. Create two decorators, and apply them to a single function. Ensure that they execute in the order they are applied.\n",
        "\n",
        "def first(function):\n",
        "  def wrapper():\n",
        "    print(\"Statement of first class before the function execution\")\n",
        "    function()\n",
        "    print(\"Statement of second class after the function execution\")\n",
        "  return wrapper\n",
        "\n",
        "def second(function):\n",
        "  def wrapper():\n",
        "    print(\"Statement of second class before the function execution\")\n",
        "    function()\n",
        "    print(\"Statement of second class after the function execution\")\n",
        "  return wrapper\n",
        "\n",
        "\n",
        "@first\n",
        "@second\n",
        "def simple_function():\n",
        "  print(\"This function is about the decorators\")\n",
        "\n",
        "simple_function()\n"
      ],
      "metadata": {
        "colab": {
          "base_uri": "https://localhost:8080/"
        },
        "id": "Nxt8zRELtJgI",
        "outputId": "62125214-f44f-4444-ed02-66da8d6a01d2"
      },
      "execution_count": 23,
      "outputs": [
        {
          "output_type": "stream",
          "name": "stdout",
          "text": [
            "Statement of first class before the function execution\n",
            "Statement of second class before the function execution\n",
            "This function is about the decorators\n",
            "Statement of second class after the function execution\n",
            "Statement of second class after the function execution\n"
          ]
        }
      ]
    },
    {
      "cell_type": "code",
      "source": [
        "# 55.Modify the decorator to accept and pass function arguments to the wrapped function\n",
        "def first(function):\n",
        "  def wrapper(*arg):\n",
        "    print(f\"Statement before the function {function.__name__} execution with message {arg}\")\n",
        "    result =function(*arg)\n",
        "    print(f\"Statement after the function {function.__name__} execution with message {arg}\")\n",
        "    return result\n",
        "  return wrapper\n",
        "@first\n",
        "def greetings(message):\n",
        "  print(message)\n",
        "\n",
        "greetings(\"Happy Birthday\")"
      ],
      "metadata": {
        "colab": {
          "base_uri": "https://localhost:8080/"
        },
        "id": "byLt6bQIuikm",
        "outputId": "948c2300-d1b1-49a3-b630-fa8046dc91d3"
      },
      "execution_count": 24,
      "outputs": [
        {
          "output_type": "stream",
          "name": "stdout",
          "text": [
            "Statement before the function greetings execution with message ('Happy Birthday',)\n",
            "Happy Birthday\n",
            "Statement after the function greetings execution with message ('Happy Birthday',)\n"
          ]
        }
      ]
    },
    {
      "cell_type": "code",
      "source": [
        "# 56.Create a decorator that preserves the metadata of the original function\n",
        "import functools\n",
        "\n",
        "def second(function):\n",
        "    @functools.wraps(function)\n",
        "    def wrapper(arg):\n",
        "        return function(arg)\n",
        "    return wrapper\n",
        "\n",
        "@second\n",
        "def wishs(wish):\n",
        "    \"\"\"This is the document of the function\"\"\"\n",
        "    print(wish)\n",
        "\n",
        "print(wishs.__name__)\n",
        "print(wishs.__doc__)\n",
        "wishs(\"Good Morning\")\n",
        ""
      ],
      "metadata": {
        "colab": {
          "base_uri": "https://localhost:8080/"
        },
        "id": "J3HOb6sIvSR-",
        "outputId": "1181bc71-fcfd-47f2-ce47-4c40150622b4"
      },
      "execution_count": 30,
      "outputs": [
        {
          "output_type": "stream",
          "name": "stdout",
          "text": [
            "wishs\n",
            "This is the document of the function\n",
            "Good Morning\n"
          ]
        }
      ]
    },
    {
      "cell_type": "code",
      "source": [
        "# 57.Create a Python class `Calculator` with a static method `add` that takes in two numbers and returns their sum.\n",
        "class Calculator:\n",
        "  @staticmethod\n",
        "  def add(a,b):\n",
        "    return a+b\n",
        "Calculator.add(2,91)"
      ],
      "metadata": {
        "colab": {
          "base_uri": "https://localhost:8080/"
        },
        "id": "ITHmTLKxvYE2",
        "outputId": "7a0f9d6e-c381-41f5-c0e8-1780874ad9ac"
      },
      "execution_count": 27,
      "outputs": [
        {
          "output_type": "execute_result",
          "data": {
            "text/plain": [
              "93"
            ]
          },
          "metadata": {},
          "execution_count": 27
        }
      ]
    },
    {
      "cell_type": "code",
      "source": [
        "# 58. Create a Python class `Employee` with a class `method get_employee_count` that returns the total number of employees created\n",
        "class Employee:\n",
        "  employee_count=0\n",
        "  def __init__(self,employee):\n",
        "    self.employee = employee\n",
        "    Employee.employee_count += 1\n",
        "\n",
        "  @classmethod\n",
        "  def get_employee_count(cls):\n",
        "    return cls.employee_count\n",
        "\n",
        "\n",
        "ob1=Employee(\"A\")\n",
        "ob2=Employee(\"B\")\n",
        "ob3=Employee(\"C\")\n",
        "\n",
        "Employee.get_employee_count()\n",
        ""
      ],
      "metadata": {
        "colab": {
          "base_uri": "https://localhost:8080/"
        },
        "id": "5gq7IS6iv5Wt",
        "outputId": "4d8ccd05-a1be-46c9-a06f-879c0de0a8d3"
      },
      "execution_count": 36,
      "outputs": [
        {
          "output_type": "execute_result",
          "data": {
            "text/plain": [
              "3"
            ]
          },
          "metadata": {},
          "execution_count": 36
        }
      ]
    },
    {
      "cell_type": "code",
      "source": [
        "# 59. Create a Python class `StringFormatter` with a static method `reverse_string` that takes a string as input and returns its reverse\n",
        "class StringFormatter:\n",
        "  @staticmethod\n",
        "  def reverse_string(s):\n",
        "    return s[::-1]\n",
        "StringFormatter.reverse_string(\"Krishna\")\n"
      ],
      "metadata": {
        "colab": {
          "base_uri": "https://localhost:8080/",
          "height": 35
        },
        "id": "KT9BjQnjxHqW",
        "outputId": "4ab71eb5-79a5-4200-9484-5f8dcf8f19ff"
      },
      "execution_count": 38,
      "outputs": [
        {
          "output_type": "execute_result",
          "data": {
            "text/plain": [
              "'anhsirK'"
            ],
            "application/vnd.google.colaboratory.intrinsic+json": {
              "type": "string"
            }
          },
          "metadata": {},
          "execution_count": 38
        }
      ]
    },
    {
      "cell_type": "code",
      "source": [
        "# 60. Create a Python class `Circle` with a class method `calculate_area` that calculates the area of a circle given its radius\n",
        "\n",
        "class Circle:\n",
        "  def __init__(self,radius):\n",
        "    self.radius=radius\n",
        "  @classmethod\n",
        "  def calculate_area(cls,radius):\n",
        "    return 3.14*radius*radius\n",
        "Circle.calculate_area(7)"
      ],
      "metadata": {
        "colab": {
          "base_uri": "https://localhost:8080/"
        },
        "id": "YS0Gw3za0Bs0",
        "outputId": "a9c25d56-54a4-4f5e-d5fb-3009126435d0"
      },
      "execution_count": 46,
      "outputs": [
        {
          "output_type": "execute_result",
          "data": {
            "text/plain": [
              "153.86"
            ]
          },
          "metadata": {},
          "execution_count": 46
        }
      ]
    },
    {
      "cell_type": "code",
      "source": [
        "# 61. Create a Python class `TemperatureConverter` with a static method `celsius_to_fahrenheit` that converts Celsius to Fahrenheit\n",
        "\n",
        "class TemperatureConverter:\n",
        "  @staticmethod\n",
        "  def celsius_to_fahrenheit(c):\n",
        "    return (c * 9/5) + 32\n",
        "print(TemperatureConverter.celsius_to_fahrenheit(25))"
      ],
      "metadata": {
        "colab": {
          "base_uri": "https://localhost:8080/"
        },
        "id": "CXx4QMQF0sHU",
        "outputId": "e3c3ab17-8fdd-4447-e46e-5112919d5fa3"
      },
      "execution_count": 2,
      "outputs": [
        {
          "output_type": "stream",
          "name": "stdout",
          "text": [
            "77.0\n"
          ]
        }
      ]
    },
    {
      "cell_type": "code",
      "source": [
        "# 62. What is the purpose of the __str__() method in Python classes? Provide an example\n",
        "# It is used for human readable representation of an object\n",
        "# It is called when we use print() or str().\n",
        "\n",
        "class Person:\n",
        "  def __init__(self,name,age):\n",
        "    self.name=name\n",
        "    self.age=age\n",
        "  def __str__(self):\n",
        "    return f\"Name :{self.name}, Age :{self.age}\"\n",
        "person =Person(\"Krihsna\",25)\n",
        "print(person)\n",
        "\n"
      ],
      "metadata": {
        "colab": {
          "base_uri": "https://localhost:8080/"
        },
        "id": "-2sr5gZam2A7",
        "outputId": "94c3c104-081e-4f26-ac31-ff022c4bb405"
      },
      "execution_count": 3,
      "outputs": [
        {
          "output_type": "stream",
          "name": "stdout",
          "text": [
            "Name :Krihsna, Age :25\n"
          ]
        }
      ]
    },
    {
      "cell_type": "code",
      "source": [
        "# 63. How does the __len__() method work in Python? Provide an example.\n",
        "# The __len__() method is used to definethe behaviour of the len() function of an object\n",
        "# it describes the size of the object\n",
        "\n",
        "class Team:\n",
        "  def __init__(self,members):\n",
        "    self.members=members\n",
        "  def __len__(self):\n",
        "    return len(self.members)\n",
        "team=Team(['A','B','C','D','E'])\n",
        "\n",
        "print(len(team))"
      ],
      "metadata": {
        "colab": {
          "base_uri": "https://localhost:8080/"
        },
        "id": "EK-wmCb8o13L",
        "outputId": "b58e5cf1-21ab-418f-b795-d165557a80d6"
      },
      "execution_count": 1,
      "outputs": [
        {
          "output_type": "stream",
          "name": "stdout",
          "text": [
            "5\n"
          ]
        }
      ]
    },
    {
      "cell_type": "code",
      "source": [
        "# 64. Explain the usage of the __add__() method in Python classes. Provide an example\n",
        "# The __add__() method is used to define the + operator of a custom class.\n",
        "\n",
        "class Point:\n",
        "  def __init__(self,x,y):\n",
        "    self.x=x\n",
        "    self.y=y\n",
        "  def __add__(self,other):\n",
        "    return Point(self.x+other.x ,self.y+other.y)\n",
        "  def __str__(self):\n",
        "    return f\"{self.x},{self.y}\"\n",
        "p1=Point(4,6)\n",
        "p2=Point(5,9)\n",
        "\n",
        "add = p1+p2\n",
        "print(add)"
      ],
      "metadata": {
        "colab": {
          "base_uri": "https://localhost:8080/"
        },
        "id": "Gpq-6NLzqVgh",
        "outputId": "db1ae31b-228f-4397-f562-08224d7b002f"
      },
      "execution_count": 2,
      "outputs": [
        {
          "output_type": "stream",
          "name": "stdout",
          "text": [
            "9,15\n"
          ]
        }
      ]
    },
    {
      "cell_type": "code",
      "source": [
        "# 65. What is the purpose of the __getitem__() method in Python? Provide an example\n",
        "# The __getitem__() method is used for indexing and slicing of an obejct with help of the index which is like key in dictionary\n",
        "\n",
        "class List:\n",
        "  def __init__(self,l):\n",
        "    self.l=l\n",
        "  def __getitem__(self,index):\n",
        "    return self.l[index]\n",
        "l=List([1,2,3,4,7,5,6])\n",
        "print(l[3])"
      ],
      "metadata": {
        "colab": {
          "base_uri": "https://localhost:8080/"
        },
        "id": "f_blmluZsBq5",
        "outputId": "845c6381-b348-4197-f31c-6847aeb8d148"
      },
      "execution_count": 5,
      "outputs": [
        {
          "output_type": "stream",
          "name": "stdout",
          "text": [
            "4\n"
          ]
        }
      ]
    },
    {
      "cell_type": "code",
      "source": [
        "# 66. Explain the usage of the __iter__() and __next__() methods in Python. Provide an example using iterators\n",
        "# __iter__(): Returns the iterator object itself.\n",
        "# __next__(): Returns the next value in the sequence. Raises StopIteration when the sequence\n",
        "\n",
        "class Number:\n",
        "  def __init__(self):\n",
        "    self.num=1\n",
        "  def __iter__(self):\n",
        "    return self\n",
        "  def __next__(self):\n",
        "    if self.num<=5:\n",
        "      val = self.num\n",
        "      self.num+=1\n",
        "      return val\n",
        "    else:\n",
        "      raise StopIteration\n",
        "num=Number()\n",
        "for i in num:\n",
        "  print(i)"
      ],
      "metadata": {
        "colab": {
          "base_uri": "https://localhost:8080/"
        },
        "id": "E8f04ad0tYAY",
        "outputId": "36b00698-c212-42c6-bfd1-0effcf0b2b7b"
      },
      "execution_count": 6,
      "outputs": [
        {
          "output_type": "stream",
          "name": "stdout",
          "text": [
            "1\n",
            "2\n",
            "3\n",
            "4\n",
            "5\n"
          ]
        }
      ]
    },
    {
      "cell_type": "code",
      "source": [
        "# 67.What is the purpose of a getter method in Python? Provide an example demonstrating the use of a getter method using property decorators\n",
        "# The getter decorator is used to retrive the private attributes present in the class\n",
        "\n",
        "class Employee:\n",
        "  def __init__(self,name,salary):\n",
        "    self.__name=name\n",
        "    self.__salary=salary\n",
        "  @property\n",
        "  def get_salary(self):\n",
        "    return self.__salary\n",
        "obj=Employee(\"Akhil\",20000000000)\n",
        "obj.get_salary\n"
      ],
      "metadata": {
        "colab": {
          "base_uri": "https://localhost:8080/"
        },
        "id": "uXpO-RlmxH3n",
        "outputId": "3475d00e-1822-4068-8e5b-92a75b0d189d"
      },
      "execution_count": 7,
      "outputs": [
        {
          "output_type": "execute_result",
          "data": {
            "text/plain": [
              "20000000000"
            ]
          },
          "metadata": {},
          "execution_count": 7
        }
      ]
    },
    {
      "cell_type": "code",
      "source": [
        "# 68. Explain the role of setter methods in Python. Demonstrate how to use a setter method to modify a class attribute using property decorators\n",
        "# The setter decorator is used to update or modify the priavate attributes present in the class\n",
        "\n",
        "class Employee:\n",
        "  def __init__(self,name,salary):\n",
        "    self.__name=name\n",
        "    self.__salary=salary\n",
        "  @property\n",
        "  def get_salary(self):\n",
        "    return self.__salary\n",
        "\n",
        "  @get_salary.setter\n",
        "  def set_salary(self,new_salary):\n",
        "    if new_salary>0:\n",
        "      self.__salary=new_salary\n",
        "    else:\n",
        "      print(\"Salary has to be positive number\")\n",
        "obj=Employee(\"Akhil\",20000000000)\n",
        "obj.get_salary\n",
        "obj.set_salary=111111111110\n",
        "obj.get_salary\n"
      ],
      "metadata": {
        "colab": {
          "base_uri": "https://localhost:8080/"
        },
        "id": "BPKSZpBn7gxu",
        "outputId": "49e02d58-a00e-4cf6-ed76-9c5b7e8a437c"
      },
      "execution_count": 12,
      "outputs": [
        {
          "output_type": "execute_result",
          "data": {
            "text/plain": [
              "111111111110"
            ]
          },
          "metadata": {},
          "execution_count": 12
        }
      ]
    },
    {
      "cell_type": "code",
      "source": [
        "# 69. What is the purpose of the @property decorator in Python? Provide an example illustrating its usage\n",
        "# The property decorater is used to access the private attributes in the class.It is used to retrive the value of private attribute and able to update it\n",
        "# with the help of setter and getter decorators.\n",
        "\n",
        "class Employee:\n",
        "  def __init__(self,name,salary):\n",
        "    self.__name=name\n",
        "    self.__salary=salary\n",
        "  @property\n",
        "  def get_salary(self):\n",
        "    return self.__salary\n",
        "\n",
        "  @get_salary.setter\n",
        "  def set_salary(self,new_salary):\n",
        "    if new_salary>0:\n",
        "      self.__salary=new_salary\n",
        "    else:\n",
        "      print(\"Salary has to be positive number\")\n",
        "obj=Employee(\"Nani\",7000000000)\n",
        "obj.get_salary\n",
        "obj.set_salary=8999999999999111110\n",
        "obj.get_salary\n"
      ],
      "metadata": {
        "colab": {
          "base_uri": "https://localhost:8080/"
        },
        "id": "ekjmlWdX82kD",
        "outputId": "b103c86a-2d65-4fb4-9405-5c65ee5a6d39"
      },
      "execution_count": 14,
      "outputs": [
        {
          "output_type": "execute_result",
          "data": {
            "text/plain": [
              "8999999999999111110"
            ]
          },
          "metadata": {},
          "execution_count": 14
        }
      ]
    },
    {
      "cell_type": "code",
      "source": [
        "# 70.Explain the use of the @deleter decorator in Python property decorators. Provide a code example demonstrating its application\n",
        "# The deleter decorator is used to delete the private attributes present in the class\n",
        "\n",
        "class Employee:\n",
        "  def __init__(self,name,salary):\n",
        "    self.__name=name\n",
        "    self.__salary=salary\n",
        "  @property\n",
        "  def get_salary(self):\n",
        "    return self.__salary\n",
        "  @get_salary.deleter\n",
        "  def delete_salary(self):\n",
        "    del self.__salary\n",
        "obj=Employee(\"Akhil\",20000000000)\n",
        "obj.get_salary\n"
      ],
      "metadata": {
        "colab": {
          "base_uri": "https://localhost:8080/"
        },
        "id": "o1Bw95l1-zdS",
        "outputId": "79663555-5910-45bf-bdd0-82b279f7f4e0"
      },
      "execution_count": 15,
      "outputs": [
        {
          "output_type": "execute_result",
          "data": {
            "text/plain": [
              "20000000000"
            ]
          },
          "metadata": {},
          "execution_count": 15
        }
      ]
    },
    {
      "cell_type": "code",
      "source": [
        "del obj.delete_salary\n",
        "obj.get_salary"
      ],
      "metadata": {
        "colab": {
          "base_uri": "https://localhost:8080/",
          "height": 280
        },
        "id": "0sbM8pDPAfjB",
        "outputId": "77b2abc3-a4d0-4c2e-b5ba-a7cc4cdec039"
      },
      "execution_count": 17,
      "outputs": [
        {
          "output_type": "error",
          "ename": "AttributeError",
          "evalue": "'Employee' object has no attribute '_Employee__salary'",
          "traceback": [
            "\u001b[0;31m---------------------------------------------------------------------------\u001b[0m",
            "\u001b[0;31mAttributeError\u001b[0m                            Traceback (most recent call last)",
            "\u001b[0;32m<ipython-input-17-8b7307e1547e>\u001b[0m in \u001b[0;36m<cell line: 0>\u001b[0;34m()\u001b[0m\n\u001b[0;32m----> 1\u001b[0;31m \u001b[0;32mdel\u001b[0m \u001b[0mobj\u001b[0m\u001b[0;34m.\u001b[0m\u001b[0mdelete_salary\u001b[0m\u001b[0;34m\u001b[0m\u001b[0;34m\u001b[0m\u001b[0m\n\u001b[0m\u001b[1;32m      2\u001b[0m \u001b[0mobj\u001b[0m\u001b[0;34m.\u001b[0m\u001b[0mget_salary\u001b[0m\u001b[0;34m\u001b[0m\u001b[0;34m\u001b[0m\u001b[0m\n",
            "\u001b[0;32m<ipython-input-15-2774cca61374>\u001b[0m in \u001b[0;36mdelete_salary\u001b[0;34m(self)\u001b[0m\n\u001b[1;32m     11\u001b[0m   \u001b[0;34m@\u001b[0m\u001b[0mget_salary\u001b[0m\u001b[0;34m.\u001b[0m\u001b[0mdeleter\u001b[0m\u001b[0;34m\u001b[0m\u001b[0;34m\u001b[0m\u001b[0m\n\u001b[1;32m     12\u001b[0m   \u001b[0;32mdef\u001b[0m \u001b[0mdelete_salary\u001b[0m\u001b[0;34m(\u001b[0m\u001b[0mself\u001b[0m\u001b[0;34m)\u001b[0m\u001b[0;34m:\u001b[0m\u001b[0;34m\u001b[0m\u001b[0;34m\u001b[0m\u001b[0m\n\u001b[0;32m---> 13\u001b[0;31m     \u001b[0;32mdel\u001b[0m \u001b[0mself\u001b[0m\u001b[0;34m.\u001b[0m\u001b[0m__salary\u001b[0m\u001b[0;34m\u001b[0m\u001b[0;34m\u001b[0m\u001b[0m\n\u001b[0m\u001b[1;32m     14\u001b[0m \u001b[0mobj\u001b[0m\u001b[0;34m=\u001b[0m\u001b[0mEmployee\u001b[0m\u001b[0;34m(\u001b[0m\u001b[0;34m\"Akhil\"\u001b[0m\u001b[0;34m,\u001b[0m\u001b[0;36m20000000000\u001b[0m\u001b[0;34m)\u001b[0m\u001b[0;34m\u001b[0m\u001b[0;34m\u001b[0m\u001b[0m\n\u001b[1;32m     15\u001b[0m \u001b[0mobj\u001b[0m\u001b[0;34m.\u001b[0m\u001b[0mget_salary\u001b[0m\u001b[0;34m\u001b[0m\u001b[0;34m\u001b[0m\u001b[0m\n",
            "\u001b[0;31mAttributeError\u001b[0m: 'Employee' object has no attribute '_Employee__salary'"
          ]
        }
      ]
    },
    {
      "cell_type": "code",
      "source": [
        "# 71. How does encapsulation relate to property decorators in Python? Provide an example showcasing encapsulation using property decorators.\n",
        "# Encapsulation is a way to hide the internal details of a class and only allow controlled access to its attributes.\n",
        "\n",
        "# Property Decorators help us achieve encapsulation by providing a way to control how private attributes are accessed and modified.\n",
        "\n",
        "class Employee:\n",
        "  def __init__(self,name,salary):\n",
        "    self.__name=name\n",
        "    self.__salary=salary\n",
        "  @property\n",
        "  def get_salary(self):\n",
        "    return self.__salary\n",
        "\n",
        "  @get_salary.setter\n",
        "  def set_salary(self,new_salary):\n",
        "    if new_salary>0:\n",
        "      self.__salary=new_salary\n",
        "    else:\n",
        "      print(\"Salary has to be positive number\")\n",
        "obj=Employee(\"Arjun\",8000000000)\n",
        "obj.get_salary\n",
        "obj.set_salary=999999111110\n",
        "obj.get_salary"
      ],
      "metadata": {
        "colab": {
          "base_uri": "https://localhost:8080/"
        },
        "id": "PBA46rtqAr0Q",
        "outputId": "2ca5ea18-6c04-46fe-8cc6-7b86feea01f4"
      },
      "execution_count": 19,
      "outputs": [
        {
          "output_type": "execute_result",
          "data": {
            "text/plain": [
              "999999111110"
            ]
          },
          "metadata": {},
          "execution_count": 19
        }
      ]
    },
    {
      "cell_type": "code",
      "source": [],
      "metadata": {
        "id": "IIbxxTbMBbrw"
      },
      "execution_count": null,
      "outputs": []
    }
  ]
}